{
  "nbformat": 4,
  "nbformat_minor": 0,
  "metadata": {
    "colab": {
      "provenance": []
    },
    "kernelspec": {
      "name": "python3",
      "display_name": "Python 3"
    },
    "language_info": {
      "name": "python"
    }
  },
  "cells": [
    {
      "cell_type": "markdown",
      "metadata": {
        "id": "2BYW9GdE05jg"
      },
      "source": [
        "# **Probability**\n",
        "\n",
        "\n",
        "**Definition :** Probability is a measure of the likelihood of an event to occur. Many events cannot be predicted with total certainty. We can predict only the chance of an event to occur i.e. how likely they are to happen, using it. Probability can range in from 0 to 1, where 0 means the event to be an impossible one and 1 indicates a certain event.The probability of all the events in a sample space adds up to 1.\n",
        "\n",
        "**Formula for Probability**\n",
        "\n",
        "The probability formula is defined as the possibility of an event to happen is equal to the ratio of the number of favourable outcomes and the total number of outcomes.\n",
        "\n",
        "**Probability of event to happen P(E) = Number of favourable outcomes/Total Number of outcomes**"
      ]
    },
    {
      "cell_type": "markdown",
      "metadata": {
        "id": "W5uVC8G2SeOF"
      },
      "source": [
        "**1. Types of Events in Probability.**\n",
        "\n",
        "Some of the important probability events are:\n",
        "\n",
        "*Impossible and Certain Events\n",
        "\n",
        "*Simple Events\n",
        "\n",
        "*Compound Events\n",
        "\n",
        "*Independent and Dependent Events\n",
        "\n",
        "*Mutually Exclusive Events\n",
        "\n",
        "*Complementary Events\n"
      ]
    },
    {
      "cell_type": "code",
      "metadata": {
        "id": "L4w8US34Sp1R",
        "colab": {
          "base_uri": "https://localhost:8080/"
        },
        "outputId": "84891be8-feeb-4d1b-a7ec-fed86bc575b0"
      },
      "source": [
        "1 #Impossible and Certain Events"
      ],
      "execution_count": null,
      "outputs": [
        {
          "output_type": "execute_result",
          "data": {
            "text/plain": [
              "1"
            ]
          },
          "metadata": {},
          "execution_count": 1
        }
      ]
    },
    {
      "cell_type": "markdown",
      "metadata": {
        "id": "lxUuPXPpSz5h"
      },
      "source": [
        "If the probability of occurrence of an event is 0, such an event is called an impossible event and if the probability of occurrence of an event is 1, it is called a sure event. In other words, the empty set 1 is an impossible event and the sample space S is a sure event."
      ]
    },
    {
      "cell_type": "markdown",
      "source": [
        "eg. 1:\n",
        " A spinner has 4 equal sectors colored yellow, blue, green, and red. What is the probability of landing on purple after spinning the spinner?\n",
        "Probability: It is impossible to land on purple since the spinner does not contain this color.\n",
        "\n",
        "P(purple) =0/ = 0\n",
        "\n",
        "eg. 2:\n",
        " A teacher chooses a student at random from a class of 30 girls. What is the probability that the student chosen is a girl?\n",
        "Probability: Since all the students in the class are girls, the teacher is certain to choose a girl.\n",
        "\n",
        "P(girl) = 30/30 = 1\n",
        "\n",
        "eg.3:\n",
        " A single 6-sided die is rolled. What is the probability of rolling a number less than 7?\n",
        "Probability: Rolling a number less than 7 is a certain event since a single die has 6 sides, numbered 1 through 6.\n",
        "\n",
        "P(number < 7) = 6/6 = 1\n",
        "\n",
        "eg. 4:\n",
        " A total of five cards are chosen at random from a standard deck of 52 playing cards. What is the probability of choosing 5 aces?\n",
        "Probability: It is impossible to choose 5 aces since a standard deck of cards has only 4 of a kind. This is an impossible event.\n",
        "\n",
        "P(5 aces) = 0 /52 = 0\n",
        "\n",
        "eg. 5:\n",
        " A glass jar contains 15 red marbles. If a single marble is chosen at random from the jar, what is the probability that it is red?\n",
        "Probability: Choosing a red marble is certain to occur since all 15 marbles in the jar are red. This is a certain event.\n",
        "\n",
        "P(red) = 15/15 = 1"
      ],
      "metadata": {
        "id": "FNSvMltNzk6t"
      }
    },
    {
      "cell_type": "code",
      "metadata": {
        "id": "Z0-lBMWMTyF7",
        "colab": {
          "base_uri": "https://localhost:8080/"
        },
        "outputId": "3afc5f71-e8b3-4f03-bd3c-15acb9ca304a"
      },
      "source": [
        "2 #Simple Events and Compound Events"
      ],
      "execution_count": null,
      "outputs": [
        {
          "output_type": "execute_result",
          "data": {
            "text/plain": [
              "2"
            ]
          },
          "metadata": {},
          "execution_count": 3
        }
      ]
    },
    {
      "cell_type": "markdown",
      "metadata": {
        "id": "9CQSwuigaGHi"
      },
      "source": [
        "Any event consisting of a single point of the sample space is known as a simple event in probability. For example, if S = {56 , 78 , 96 , 54 , 89} and E = {78} then E is a simple event.\n",
        "\n",
        "Contrary to the simple event, if any event consists of more than one single point of the sample space then such an event is called a compound event. Considering the same example again, if S = {56 ,78 ,96 ,54 ,89}, E1 = {56 ,54 }, E2 = {78 ,56 ,89 } then, E1 and E2 represent two compound events."
      ]
    },
    {
      "cell_type": "code",
      "metadata": {
        "id": "FajWU4P1T5oJ"
      },
      "source": [
        "def event_probability(n,s):\n",
        "  return n/s"
      ],
      "execution_count": null,
      "outputs": []
    },
    {
      "cell_type": "markdown",
      "metadata": {
        "id": "WjoO_zg8U7aa"
      },
      "source": [
        "eg.1"
      ]
    },
    {
      "cell_type": "code",
      "metadata": {
        "colab": {
          "base_uri": "https://localhost:8080/"
        },
        "id": "cmSxWMdHUCwK",
        "outputId": "0f1dc5c4-0dee-40ad-95e2-43e8ffb4ac03"
      },
      "source": [
        "# probability of getting 3 when a die is rolled\n",
        "ns = 6 #n(S) = {1,2,3,4,5,6}\n",
        "na = 1 #n(A) = {3}\n",
        "pa = na/ns # P(A)\n",
        "print(\"probability of getting 3 is:\",pa)"
      ],
      "execution_count": null,
      "outputs": [
        {
          "output_type": "stream",
          "name": "stdout",
          "text": [
            "probability of getting 3 is: 0.16666666666666666\n"
          ]
        }
      ]
    },
    {
      "cell_type": "markdown",
      "metadata": {
        "id": "-sKyTDsPU_mq"
      },
      "source": [
        "eg.2"
      ]
    },
    {
      "cell_type": "code",
      "metadata": {
        "colab": {
          "base_uri": "https://localhost:8080/"
        },
        "id": "ewHHw8sLU4Jy",
        "outputId": "efc52f37-3371-41be-d7a9-278b57320d1f"
      },
      "source": [
        "# probability of getting Heads when a fair coin is tossed\n",
        "ns = 2 #n(S) = {H,T}\n",
        "na = 1 #n(A) = {H}\n",
        "pa = na/ns # P(A)\n",
        "print(\"probability of getting head is:\",pa)"
      ],
      "execution_count": null,
      "outputs": [
        {
          "output_type": "stream",
          "name": "stdout",
          "text": [
            "probability of getting head is: 0.5\n"
          ]
        }
      ]
    },
    {
      "cell_type": "markdown",
      "metadata": {
        "id": "EzN0oGHfVFBS"
      },
      "source": [
        "eg.3"
      ]
    },
    {
      "cell_type": "code",
      "metadata": {
        "colab": {
          "base_uri": "https://localhost:8080/"
        },
        "id": "ozJWY1BuVG_t",
        "outputId": "65382787-2020-4192-c2a2-15e9f7bb55eb"
      },
      "source": [
        "# probability of atleast getting one head when a coin is tossed thrice\n",
        "ns = 8 #n(S) = {HHH, HHT, HTH, THH, TTH, THT, HTT, TTT}\n",
        "na = 7 #n(A) = {HHH, HHT, HTH, THH, TTH, THT, HTT}\n",
        "pa = na/ns # P(A)\n",
        "print(\"probability of getting atleast one head is:\",pa)"
      ],
      "execution_count": null,
      "outputs": [
        {
          "output_type": "stream",
          "name": "stdout",
          "text": [
            "probability of getting atleast one head is: 0.875\n"
          ]
        }
      ]
    },
    {
      "cell_type": "markdown",
      "metadata": {
        "id": "Tlpgvg9uVP7p"
      },
      "source": [
        "eg.4"
      ]
    },
    {
      "cell_type": "code",
      "metadata": {
        "colab": {
          "base_uri": "https://localhost:8080/"
        },
        "id": "HZhQT2deVRb7",
        "outputId": "4bc7ca61-980d-4822-a3b1-4be4adbed981"
      },
      "source": [
        "#probabiltiy of not getting 5 when a fair die is rolled\n",
        "ns = 6 #n(S) = {1,2,3,4,5,6}\n",
        "na = 5 #n(A) = {1,2,3,4,6}\n",
        "pa = na/ns # P(A)\n",
        "print(\"probability of not getting 5 is:\",pa)"
      ],
      "execution_count": null,
      "outputs": [
        {
          "output_type": "stream",
          "name": "stdout",
          "text": [
            "probability of not getting 5 is: 0.8333333333333334\n"
          ]
        }
      ]
    },
    {
      "cell_type": "markdown",
      "metadata": {
        "id": "xyHiIqD4VflB"
      },
      "source": [
        "eg.5"
      ]
    },
    {
      "cell_type": "code",
      "metadata": {
        "colab": {
          "base_uri": "https://localhost:8080/"
        },
        "id": "lL9u2MhTVhHU",
        "outputId": "46f555a2-7068-4fd7-ee09-9d8302384914"
      },
      "source": [
        "# A glass jar contains 5 red, 3 blue and 2 green jelly beans. If a jelly bean is chosen at random from the jar, what is the probability that it is not blue?\n",
        "ns = 10 #n(S) = {5red,3blue,2green}\n",
        "na = 7 #n(A) = {5red, 2green}\n",
        "pa = na/ns # P(A)\n",
        "print(\"probability of getting not blue jellybean is:\",pa)"
      ],
      "execution_count": null,
      "outputs": [
        {
          "output_type": "stream",
          "name": "stdout",
          "text": [
            "probability of getting not blue jellybean is: 0.7\n"
          ]
        }
      ]
    },
    {
      "cell_type": "code",
      "metadata": {
        "colab": {
          "base_uri": "https://localhost:8080/"
        },
        "id": "XfeWQW3LWKQZ",
        "outputId": "9f88ee69-9b16-489c-a45f-fc26d196bf81"
      },
      "source": [
        "# A number x is chosen at random from the numbers -2, -1, 0 , 1, 2. Then the probability that x2 < 2 is?\n",
        "ns = 5 #n(S) = {-2, -1, 0 , 1, 2}\n",
        "na = 3 #n(A) = {-2, -1, 0}\n",
        "pa = na/ns # P(A)\n",
        "print(\"probability of x2 < 2:\",pa)\n"
      ],
      "execution_count": null,
      "outputs": [
        {
          "output_type": "stream",
          "name": "stdout",
          "text": [
            "probability of x2 < 2: 0.6\n"
          ]
        }
      ]
    },
    {
      "cell_type": "code",
      "metadata": {
        "colab": {
          "base_uri": "https://localhost:8080/"
        },
        "id": "hMdVlOuAWMFp",
        "outputId": "69bd7b33-cdc7-4129-eaa1-64f393ad1b77"
      },
      "source": [
        "#A number from 1 to 5 is chosen at random. What is the probability that the number chosen is not odd?\n",
        "ns = 5 #n(S) = {1,2,3,4,5}\n",
        "na = 2 #n(A) = {2,4}\n",
        "pa = na/ns # P(A)\n",
        "print(\"probability of getting not odd number:\",pa)\n"
      ],
      "execution_count": null,
      "outputs": [
        {
          "output_type": "stream",
          "name": "stdout",
          "text": [
            "probability of getting not odd number: 0.4\n"
          ]
        }
      ]
    },
    {
      "cell_type": "code",
      "metadata": {
        "id": "IT2BOPXSVmqS",
        "colab": {
          "base_uri": "https://localhost:8080/"
        },
        "outputId": "0332c758-d2b1-4df1-e323-07a47e5e101e"
      },
      "source": [
        "3 #Independent and Dependent Events"
      ],
      "execution_count": null,
      "outputs": [
        {
          "output_type": "execute_result",
          "data": {
            "text/plain": [
              "3"
            ]
          },
          "metadata": {},
          "execution_count": 12
        }
      ]
    },
    {
      "cell_type": "markdown",
      "metadata": {
        "id": "gyRi6NSKacr6"
      },
      "source": [
        "If the occurrence of any event is completely unaffected by the occurrence of any other event, such events are known as an independent event in probability and the events which are affected by other events are known as dependent events."
      ]
    },
    {
      "cell_type": "markdown",
      "metadata": {
        "id": "M9GObVPtXBRL"
      },
      "source": [
        "eg.1"
      ]
    },
    {
      "cell_type": "code",
      "metadata": {
        "colab": {
          "base_uri": "https://localhost:8080/"
        },
        "id": "7DQKjSHjVscT",
        "outputId": "fc2fadfb-6970-4bbd-d7ee-26839b98cc8d"
      },
      "source": [
        "# If the probability that person A will be alive in 20 years is 0.7 and the probability that person B will be alive in\n",
        "# 20 years is 0.5, what is the probability that they will both be alive in 20 years?\n",
        "\n",
        "#These are independent events, so\n",
        "P = 0.7*0.5\n",
        "print(\"probability that they will be alive after 20 years is:\",P)\n"
      ],
      "execution_count": null,
      "outputs": [
        {
          "output_type": "stream",
          "name": "stdout",
          "text": [
            "probability that they will be alive after 20 years is: 0.35\n"
          ]
        }
      ]
    },
    {
      "cell_type": "markdown",
      "metadata": {
        "id": "0bKT4l2VXDPi"
      },
      "source": [
        "eg.2"
      ]
    },
    {
      "cell_type": "code",
      "metadata": {
        "colab": {
          "base_uri": "https://localhost:8080/"
        },
        "id": "3AhGloRSW5HK",
        "outputId": "4cb1c5e5-43b8-4d64-fa92-f758552dcc20"
      },
      "source": [
        "#A fair die is tossed twice. Find the probability of getting a 4 or 5 on the first toss and a 1,2, or 3 in the second toss.\n",
        "pa = event_probability(2,6) # probability of getting a 4 or 5 on the first toss\n",
        "pb = event_probability(3,6) # probability of getting 1,2,3 in second toss\n",
        "P = pa*pb \n",
        "print(\"probability of getting a 4 or 5 on the first toss and a 1,2, or 3 in the second toss is:\",P)\n"
      ],
      "execution_count": null,
      "outputs": [
        {
          "output_type": "stream",
          "name": "stdout",
          "text": [
            "probability of getting a 4 or 5 on the first toss and a 1,2, or 3 in the second toss is: 0.16666666666666666\n"
          ]
        }
      ]
    },
    {
      "cell_type": "markdown",
      "metadata": {
        "id": "kge_LnHFXGWB"
      },
      "source": [
        "eg.3"
      ]
    },
    {
      "cell_type": "code",
      "metadata": {
        "colab": {
          "base_uri": "https://localhost:8080/"
        },
        "id": "15IaYxReXKir",
        "outputId": "9de8d36b-631d-415b-8db0-80a68398e33c"
      },
      "source": [
        "# A bag contains 5 white marbles, 3 black marbles and 2 green marbles. In each draw, a marble is drawn from the bag\n",
        "# and not replaced. In three draws, find the probability of obtaining white, black and green in that order.\n",
        "pw = event_probability(5,10)\n",
        "pb = event_probability(3,9)\n",
        "pg = event_probability(2,8)\n",
        "print(\"the probability of obtaining white, black and green in that order is \",(pw*pb*pg))\n"
      ],
      "execution_count": null,
      "outputs": [
        {
          "output_type": "stream",
          "name": "stdout",
          "text": [
            "the probability of obtaining white, black and green in that order is  0.041666666666666664\n"
          ]
        }
      ]
    },
    {
      "cell_type": "code",
      "metadata": {
        "id": "DgcCEo5xXNOC",
        "colab": {
          "base_uri": "https://localhost:8080/"
        },
        "outputId": "b2acde4b-d81b-4109-be06-b482b7965e6c"
      },
      "source": [
        "4 #Mutually Exclusive Events"
      ],
      "execution_count": null,
      "outputs": [
        {
          "output_type": "execute_result",
          "data": {
            "text/plain": [
              "4"
            ]
          },
          "metadata": {},
          "execution_count": 16
        }
      ]
    },
    {
      "cell_type": "markdown",
      "metadata": {
        "id": "yVJGQgxSakep"
      },
      "source": [
        "If the occurrence of one event excludes the occurrence of another event, such events are mutually exclusive events i.e. two events don’t have any common point. For example, if S = {1 , 2 , 3 , 4 , 5 , 6} and E1, E2 are two events such that E1 consists of numbers less than 3 and E2 consists of numbers greater than 4.\n",
        "\n",
        "So, E1 = {1,2} and E2 = {5,6} .\n",
        "\n",
        "Then, E1 and E2 are mutually exclusive."
      ]
    },
    {
      "cell_type": "markdown",
      "metadata": {
        "id": "ZnAL89H7XXLa"
      },
      "source": [
        "eg.1"
      ]
    },
    {
      "cell_type": "code",
      "metadata": {
        "colab": {
          "base_uri": "https://localhost:8080/"
        },
        "id": "1Z8zucryXYxp",
        "outputId": "e6b07c18-744c-4a85-dd23-2e10859cd05c"
      },
      "source": [
        "#What is the probability of a die showing a number 3 or number 5?\n",
        "pa = 1/6 # pa is the probability of getting a number 3\n",
        "\n",
        "pb = 1/6 #pb is the probability of getting a number 5\n",
        "\n",
        "Pab = pa + pb #Pab is the probability of getting 3 or 5\n",
        "print(\"Therefore, the probability of a die showing 3 or 5 is\",Pab)\n"
      ],
      "execution_count": null,
      "outputs": [
        {
          "output_type": "stream",
          "name": "stdout",
          "text": [
            "Therefore, the probability of a die showing 3 or 5 is 0.3333333333333333\n"
          ]
        }
      ]
    },
    {
      "cell_type": "markdown",
      "metadata": {
        "id": "flZbRbokXhsi"
      },
      "source": [
        "eg.2"
      ]
    },
    {
      "cell_type": "code",
      "metadata": {
        "colab": {
          "base_uri": "https://localhost:8080/"
        },
        "id": "Xak93PM7XjvC",
        "outputId": "c66b1c5f-7658-4d2d-d032-ec3e905488d0"
      },
      "source": [
        "# Sample Space\n",
        "cards = 52\n",
        "\n",
        "# Calculate the probability of drawing a heart or a club\n",
        "hearts = 13\n",
        "clubs = 13\n",
        "heart_or_club = event_probability(hearts, cards) + event_probability(clubs, cards)\n",
        "print(heart_or_club )"
      ],
      "execution_count": null,
      "outputs": [
        {
          "output_type": "stream",
          "name": "stdout",
          "text": [
            "0.5\n"
          ]
        }
      ]
    },
    {
      "cell_type": "markdown",
      "metadata": {
        "id": "ZuR0t0-iX_WC"
      },
      "source": [
        "eg.3"
      ]
    },
    {
      "cell_type": "code",
      "metadata": {
        "colab": {
          "base_uri": "https://localhost:8080/"
        },
        "id": "JQha3E80YAsy",
        "outputId": "78a5ab73-1e2e-43bd-f1fc-e899cfb8bc32"
      },
      "source": [
        "# Calculate the probability of drawing an ace, king, or a queen\n",
        "aces = 4\n",
        "kings = 4\n",
        "queens = 4\n",
        "ace_king_or_queen = event_probability(aces, cards) + event_probability(kings, cards) + event_probability(queens, cards)\n",
        "\n",
        "print(heart_or_club)\n",
        "print(ace_king_or_queen)"
      ],
      "execution_count": null,
      "outputs": [
        {
          "output_type": "stream",
          "name": "stdout",
          "text": [
            "0.5\n",
            "0.23076923076923078\n"
          ]
        }
      ]
    },
    {
      "cell_type": "markdown",
      "metadata": {
        "id": "oFsU8ro-YMUi"
      },
      "source": [
        "eg.4"
      ]
    },
    {
      "cell_type": "code",
      "metadata": {
        "colab": {
          "base_uri": "https://localhost:8080/"
        },
        "id": "PxiXmzYTYRv6",
        "outputId": "dfed9992-4c10-4a7e-a0a2-40b001fde944"
      },
      "source": [
        "# In a deck of 52 card, the probability of getting king or queen is equal to:\n",
        "queen = 4\n",
        "king = 4\n",
        "king_or_queen = event_probability(queen, cards) + event_probability(king, cards)\n",
        "print(king_or_queen)\n"
      ],
      "execution_count": null,
      "outputs": [
        {
          "output_type": "stream",
          "name": "stdout",
          "text": [
            "0.15384615384615385\n"
          ]
        }
      ]
    },
    {
      "cell_type": "markdown",
      "metadata": {
        "id": "1FWWxZ-YYgTu"
      },
      "source": [
        "\n",
        "\n",
        "eg.5"
      ]
    },
    {
      "cell_type": "code",
      "metadata": {
        "colab": {
          "base_uri": "https://localhost:8080/"
        },
        "id": "aGgj-XHuYilY",
        "outputId": "44a9b50f-08e4-4436-9cba-99a35ba92212"
      },
      "source": [
        "# Calculate the probability of drawing a heart or an ace\n",
        "hearts = 13\n",
        "aces = 4\n",
        "ace_of_hearts = 1\n",
        "heart_or_ace = event_probability(hearts, cards) + event_probability(aces, cards) - event_probability(ace_of_hearts, cards)\n",
        "print(round(heart_or_ace, 1))"
      ],
      "execution_count": null,
      "outputs": [
        {
          "output_type": "stream",
          "name": "stdout",
          "text": [
            "0.3\n"
          ]
        }
      ]
    },
    {
      "cell_type": "markdown",
      "metadata": {
        "id": "c--I-8ouY0Fq"
      },
      "source": [
        "eg.6"
      ]
    },
    {
      "cell_type": "code",
      "metadata": {
        "colab": {
          "base_uri": "https://localhost:8080/"
        },
        "id": "gxOvDdqWY1_T",
        "outputId": "66cac368-eaf7-4bbd-8bfd-2e47b7d32701"
      },
      "source": [
        "red_cards = 26\n",
        "face_cards = 12\n",
        "red_face_cards = 6\n",
        "red_or_face_cards = event_probability(red_cards, cards) + event_probability(face_cards, cards) - event_probability(red_face_cards, cards)\n",
        "\n",
        "print(round(heart_or_ace, 1))\n",
        "print(round(red_or_face_cards, 1))"
      ],
      "execution_count": null,
      "outputs": [
        {
          "output_type": "stream",
          "name": "stdout",
          "text": [
            "0.3\n",
            "0.6\n"
          ]
        }
      ]
    },
    {
      "cell_type": "code",
      "metadata": {
        "id": "iGu2mHWzY8M6",
        "colab": {
          "base_uri": "https://localhost:8080/"
        },
        "outputId": "efcfa7f3-3e22-481d-a63f-82fa6c282a27"
      },
      "source": [
        "5 #Complementary Events"
      ],
      "execution_count": null,
      "outputs": [
        {
          "output_type": "execute_result",
          "data": {
            "text/plain": [
              "5"
            ]
          },
          "metadata": {},
          "execution_count": 23
        }
      ]
    },
    {
      "cell_type": "markdown",
      "metadata": {
        "id": "COxN4k8yauMK"
      },
      "source": [
        "For any event E1 there exists another event E1‘ which represents the remaining elements of the sample space S.\n",
        "\n",
        "E1 = S − E1‘\n",
        "\n",
        "If a dice is rolled then the sample space S is given as S = {1 , 2 , 3 , 4 , 5 , 6 }. If event E1 represents all the outcomes which is greater than 4, then E1 = {5, 6} and E1‘ = {1, 2, 3, 4}.\n",
        "\n",
        "Thus E1‘ is the complement of the event E1.\n",
        "\n",
        "Similarly, the complement of E1, E2, E3……….En will be represented as E1‘, E2‘, E3‘……….En‘"
      ]
    },
    {
      "cell_type": "markdown",
      "metadata": {
        "id": "03WMhj85ZE6T"
      },
      "source": [
        "eg.1\n"
      ]
    },
    {
      "cell_type": "code",
      "metadata": {
        "colab": {
          "base_uri": "https://localhost:8080/"
        },
        "id": "J4_3XyLJZGgx",
        "outputId": "47de9816-f23e-4628-c3a7-bbf34e39b4b7"
      },
      "source": [
        "#probabiltiy of not getting 5 when a fair die is rolled\n",
        "ns = 6 #n(S) = {1,2,3,4,5,6}\n",
        "na = 1 #n(A) = {5}\n",
        "pa = na/ns # P(A)\n",
        "print(\"probabilty of not getting 5 is:\",1-pa)\n"
      ],
      "execution_count": null,
      "outputs": [
        {
          "output_type": "stream",
          "name": "stdout",
          "text": [
            "probabilty of not getting 5 is: 0.8333333333333334\n"
          ]
        }
      ]
    },
    {
      "cell_type": "markdown",
      "metadata": {
        "id": "J5LT4k_yZOcR"
      },
      "source": [
        "eg.2\n"
      ]
    },
    {
      "cell_type": "code",
      "metadata": {
        "colab": {
          "base_uri": "https://localhost:8080/"
        },
        "id": "Ob2CJJ9kZQEq",
        "outputId": "8ac35a4f-d30e-4e90-8b55-b062af9873ff"
      },
      "source": [
        "\n",
        "# a probability of getting a white balls from a bag of balls is 1/4\n",
        "p = 1/4\n",
        "# What is the probability of not getting a white ball?\n",
        "print(\"Probability of not getting white ball is \",1-p)"
      ],
      "execution_count": null,
      "outputs": [
        {
          "output_type": "stream",
          "name": "stdout",
          "text": [
            "Probability of not getting white ball is  0.75\n"
          ]
        }
      ]
    },
    {
      "cell_type": "markdown",
      "metadata": {
        "id": "Bh9amROeZUsL"
      },
      "source": [
        "eg.3\n"
      ]
    },
    {
      "cell_type": "code",
      "metadata": {
        "colab": {
          "base_uri": "https://localhost:8080/"
        },
        "id": "6YPC0Bx1ZWjx",
        "outputId": "5a747403-5528-4580-f3f8-bec895877447"
      },
      "source": [
        "# A number is chosen at random from a set of whole numbers from 1 to 50.\n",
        "# Calculate the probability that the chosen number is not a perfect square.\n",
        "n = 50 # Sample space\n",
        "a = 7 #{1,4,9,16,25,36,49}\n",
        "p = event_probability(a,n)\n",
        "print(\"the probability that the chosen number is not a perfect square is\",1-p)\n"
      ],
      "execution_count": null,
      "outputs": [
        {
          "output_type": "stream",
          "name": "stdout",
          "text": [
            "the probability that the chosen number is not a perfect square is 0.86\n"
          ]
        }
      ]
    },
    {
      "cell_type": "markdown",
      "metadata": {
        "id": "f90wybtEu-4t"
      },
      "source": [
        "**2. Rules of Probability**"
      ]
    },
    {
      "cell_type": "markdown",
      "metadata": {
        "id": "InqGiXAeQavL"
      },
      "source": [
        "Basic Rules of Probability\n",
        "\n",
        "1.The chance that some event happens given all events that could happen in that category.\n",
        "\n",
        "Probabilities denote the chance that something happens, not the guarantee 0≤p(x)≤1 or 0%≤p(x)≤100%\n",
        "\n",
        "For any set of associated but separate events, ∑ip(xi)=1\n",
        "\n",
        "For related events A and B, the probablity that they happen together is p(A∩B)=p(A)⋅p(B)\n",
        "\n",
        "The probability that either one of them happens is p(A∪B)=p(A)+p(B)−p(A∩B)"
      ]
    },
    {
      "cell_type": "markdown",
      "metadata": {
        "id": "rc-2usn2UEI7"
      },
      "source": [
        "Complementary rule for even"
      ]
    },
    {
      "cell_type": "code",
      "metadata": {
        "colab": {
          "base_uri": "https://localhost:8080/"
        },
        "id": "vgLAAtgmorq5",
        "outputId": "56efa7d6-f352-477e-901e-17609a2d4f09"
      },
      "source": [
        "import math \n",
        "def findProb(l, r): \n",
        "      \n",
        "    # Count of perfect squares  \n",
        "    countOfPS = (math.floor(math.sqrt(r)) - \n",
        "                  math.ceil(math.sqrt(l)) + 1) \n",
        "      \n",
        "    # Total numbers in range l to r  \n",
        "    total = r - l + 1\n",
        "  \n",
        "    # Calculating probability  \n",
        "    prob = countOfPS / total \n",
        "      \n",
        "    return prob  \n",
        "      \n",
        "# Driver code  \n",
        "if __name__=='__main__': \n",
        "      \n",
        "    L = 16\n",
        "    R = 25\n",
        "      \n",
        "    print(findProb(L, R))"
      ],
      "execution_count": null,
      "outputs": [
        {
          "output_type": "stream",
          "name": "stdout",
          "text": [
            "0.2\n"
          ]
        }
      ]
    },
    {
      "cell_type": "markdown",
      "metadata": {
        "id": "j28S2qNsqUie"
      },
      "source": [
        "Complementary rule for odds"
      ]
    },
    {
      "cell_type": "code",
      "metadata": {
        "colab": {
          "base_uri": "https://localhost:8080/"
        },
        "id": "sqjxb1uSqUyV",
        "outputId": "84fd5dae-49bd-4162-8f3b-2abd49ff6334"
      },
      "source": [
        "MAX=21\n",
        "\n",
        "fact=[0]*MAX\n",
        "\n",
        "# Returns probability of \n",
        "# getting at least k \n",
        "# heads in n tosses. \n",
        "def probability(k, n): \n",
        "\tans = 0\n",
        "\tfor i in range(k,n+1): \n",
        "\n",
        "\t\t# Probability of getting exactly i \n",
        "\t\t# heads out of n heads \n",
        "\t\tans += fact[n] / (fact[i] * fact[n - i]) \n",
        "\n",
        "\t# Note: 1 << n = pow(2, n) \n",
        "\tans = ans / (1 << n) \n",
        "\treturn ans \n",
        "\n",
        "def precompute(): \n",
        "\t\n",
        "\t# Preprocess all factorial \n",
        "\t# only upto 19, \n",
        "\t# as after that it \n",
        "\t# will overflow \n",
        "\tfact[0] = 1\n",
        "\tfact[1] = 1\n",
        "\n",
        "\tfor i in range(2,20): \n",
        "\t\tfact[i] = fact[i - 1] * i \n",
        "\n",
        "# Driver code \n",
        "if __name__=='__main__': \n",
        "\tprecompute() \n",
        "\n",
        "\t# Probability of getting 2 \n",
        "\t# head out of 3 coins \n",
        "\tprint(probability(2, 3)) \n",
        "\n",
        "\t# Probability of getting \n",
        "\t# 3 head out of 6 coins \n",
        "\tprint(probability(3, 6)) \n",
        "\n",
        "\t# Probability of getting \n",
        "\t# 12 head out of 18 coins \n",
        "\tprint(probability(12, 18)) \n",
        "\t\n",
        "\n"
      ],
      "execution_count": null,
      "outputs": [
        {
          "output_type": "stream",
          "name": "stdout",
          "text": [
            "0.5\n",
            "0.65625\n",
            "0.1189422607421875\n"
          ]
        }
      ]
    },
    {
      "cell_type": "markdown",
      "metadata": {
        "id": "E1xeWs9gvCA7"
      },
      "source": [
        "Multiplication rule:\n",
        "\n",
        "P(A and B) = P(A) * P(B), "
      ]
    },
    {
      "cell_type": "code",
      "metadata": {
        "colab": {
          "base_uri": "https://localhost:8080/"
        },
        "id": "kcC6x7M_vDxe",
        "outputId": "f4549e73-be07-47ec-bf90-b2487b033e3c"
      },
      "source": [
        "\n",
        "import numpy \n",
        "import numpy as np\n",
        " \n",
        "temps = [31, 32, 32, 31, 28, 29, 31, 38, 32, 31, 30, 29, 30, 31, 26] \n",
        " \n",
        "num_items = len(temps) \n",
        "product = 1. \n",
        " \n",
        "for temperature in temps: \n",
        "    product *= temperature \n",
        "     \n",
        "geometric_mean = product**(1./num_items) \n",
        " \n",
        "print(geometric_mean)   # == 30.634\n",
        "\n",
        "import numpy as np\n",
        "\n",
        "# create user preferences\n",
        "user_pref = np.array([5, 1, 3])\n",
        "\n",
        "# create a random movie matrix of 10,000 movies\n",
        "movies = np.random.randint(5,size=(3,1000))+1\n",
        "\n",
        "# Note that the randint will make random integers from 0-4\n",
        "# so I added a 1 at the end to increase the scale from 1-5\n",
        "\n",
        "print(user_pref.shape) # (1, 3)\n",
        "\n",
        "print(movies.shape)    # (3, 1000)\n",
        "\n",
        "# np.dot does both dot products and matrix multiplication\n",
        "recs = np.dot(user_pref, movies)\n",
        "\n",
        "import time\n",
        "\n",
        "for i in (10000, 100000, 1000000, 10000000, 100000000):\n",
        "    movies = np.random.randint(5,size=(3,i))+1\n",
        "    now = time.time()\n",
        "    np.dot(user_pref, movies)\n",
        "    print (time.time() - now), \"seconds to run\", i, \"movies\""
      ],
      "execution_count": null,
      "outputs": [
        {
          "output_type": "stream",
          "name": "stdout",
          "text": [
            "30.63473484374659\n",
            "(3,)\n",
            "(3, 1000)\n",
            "0.0018553733825683594\n",
            "0.0008676052093505859\n",
            "0.006582736968994141\n",
            "0.06243634223937988\n",
            "0.6256797313690186\n"
          ]
        }
      ]
    },
    {
      "cell_type": "markdown",
      "metadata": {
        "id": "cdcxcTmsPMzq"
      },
      "source": [
        "Addition rule\n",
        "\n",
        "P\n",
        "(\n",
        "A\n",
        "∪\n",
        "B\n",
        ")\n",
        "=\n",
        "P\n",
        "(\n",
        "A\n",
        ")\n",
        "+\n",
        "P\n",
        "(\n",
        "B\n",
        ")\n",
        "−\n",
        "P\n",
        "(\n",
        "A\n",
        "∩\n",
        "B\n",
        ")"
      ]
    },
    {
      "cell_type": "code",
      "metadata": {
        "colab": {
          "base_uri": "https://localhost:8080/"
        },
        "id": "6xbIyalDO-_c",
        "outputId": "a92058dd-f395-4775-967e-16b2f7e6a7b3"
      },
      "source": [
        "\n",
        "def event_probability(event_outcomes, sample_space):\n",
        "    probability = (event_outcomes / sample_space) * 100\n",
        "    return round(probability, 1)\n",
        "\n",
        "# Sample Space\n",
        "cards = 52\n",
        "\n",
        "# Determine the probability of drawing a heart\n",
        "hearts = 13\n",
        "heart_probability = event_probability(hearts, cards)\n",
        "\n",
        "# Determine the probability of drawing a face card\n",
        "face_cards = 12\n",
        "face_card_probability = event_probability(face_cards, cards)\n",
        "\n",
        "# Determine the probability of drawing the queen of hearts\n",
        "queen_of_hearts = 1\n",
        "queen_of_hearts_probability = event_probability(queen_of_hearts, cards)\n",
        "\n",
        "# Print each probability\n",
        "print(str(heart_probability) )\n",
        "print(str(face_card_probability))\n",
        "print(str(queen_of_hearts_probability))"
      ],
      "execution_count": null,
      "outputs": [
        {
          "output_type": "stream",
          "text": [
            "25.0\n",
            "23.1\n",
            "1.9\n"
          ],
          "name": "stdout"
        }
      ]
    },
    {
      "cell_type": "markdown",
      "metadata": {
        "id": "j9Tn-zIyP1Wm"
      },
      "source": [
        "Conditional Probability"
      ]
    },
    {
      "cell_type": "code",
      "metadata": {
        "colab": {
          "base_uri": "https://localhost:8080/"
        },
        "id": "jmdJeK6vRlp6",
        "outputId": "d85eff7c-8c4d-4f77-9c37-98d3137e4b0f"
      },
      "source": [
        "import numpy as np\n",
        "def coinFlip(p):    \n",
        "    #perform the binomial distribution (returns 0 or 1)    \n",
        "    result = np.random.binomial(1,p)\n",
        "#return flip to be added to numpy array    \n",
        "    return result\n",
        "'''Main Area'''\n",
        "#probability of heads vs. tails. This can be changed.\n",
        "probability = .5\n",
        "#num of flips required. This can be changed.\n",
        "n = 10\n",
        "#initiate array\n",
        "fullResults = np.arange(n)\n",
        "#perform desired numbered of flips at required probability set above\n",
        "for i in range(0, n):    \n",
        "    fullResults[i] = coinFlip(probability)    \n",
        "    i+=1\n",
        "#print results\n",
        "print(\"probability is set to \", probability)\n",
        "print(\"Tails = 0, Heads = 1: \", fullResults)\n",
        "#Total up heads and tails for easy user experience \n",
        "print(\"Head Count: \", np.count_nonzero(fullResults == 1))\n",
        "print(\"Tail Count: \", np.count_nonzero(fullResults == 0))"
      ],
      "execution_count": null,
      "outputs": [
        {
          "output_type": "stream",
          "text": [
            "probability is set to  0.5\n",
            "Tails = 0, Heads = 1:  [0 0 0 0 0 0 1 0 0 1]\n",
            "Head Count:  2\n",
            "Tail Count:  8\n"
          ],
          "name": "stdout"
        }
      ]
    },
    {
      "cell_type": "markdown",
      "metadata": {
        "id": "6wSruof4URPA"
      },
      "source": [
        "P(A∪B)=P(A)+P(B)−P(A∩B)"
      ]
    },
    {
      "cell_type": "code",
      "metadata": {
        "colab": {
          "base_uri": "https://localhost:8080/"
        },
        "id": "Z-oRAuNFTOFn",
        "outputId": "05a86156-a045-4069-e5e1-083a350aaf31"
      },
      "source": [
        "# Sample Space\n",
        "cards = 52\n",
        "hole_cards = 2\n",
        "# Your opponent provided you information... use it!\n",
        "opponents_hole_cards = 2 \n",
        "\n",
        "turn_community_cards = 4\n",
        "cards = cards - (hole_cards + opponents_hole_cards + turn_community_cards)\n",
        "\n",
        "# Outcomes\n",
        "diamonds = 13\n",
        "diamonds_drawn = 4\n",
        "\n",
        "# You can't count the two diamonds that won't help you win\n",
        "diamond_non_outs = 2 \n",
        "\n",
        "outs = diamonds - diamonds_drawn - diamond_non_outs\n",
        "\n",
        "# Determine win probability\n",
        "win_probability = outs / cards\n",
        "\n",
        "# Determine expected value\n",
        "pot = 60\n",
        "ev = pot * win_probability\n",
        "\n",
        "# Print ev and appropriate decision\n",
        "call_amount = 20\n",
        "if ev >= 20:\n",
        "    print(round(ev, 2), 'Call')\n",
        "else:\n",
        "    print(round(ev, 2), 'Fold')"
      ],
      "execution_count": null,
      "outputs": [
        {
          "output_type": "stream",
          "text": [
            "9.55 Fold\n"
          ],
          "name": "stdout"
        }
      ]
    },
    {
      "cell_type": "markdown",
      "metadata": {
        "id": "rmQl8GkHwa07"
      },
      "source": [
        "**3. Permutations and Combinations**"
      ]
    },
    {
      "cell_type": "code",
      "metadata": {
        "colab": {
          "base_uri": "https://localhost:8080/"
        },
        "id": "BwKkrw8YCHe4",
        "outputId": "93e7a927-cc4b-4894-dec6-e503fc2acc4f"
      },
      "source": [
        "                                                          #Permutation and Combination\n",
        "\n",
        "#------------------------------------------------------------------ Permutation ------------------------------------------------------------------------------\n",
        "#What is Permutation?\n",
        "#Permutation is the act of arranging the members of a set into a sequence or order, or, if the set is already ordered, rearranging (reordering) its elements.\n",
        "#The formula for Permutation (non-repetitive) is :\n",
        "#P (n, r) =n! /(n-r)!  where n is the total no of element in a set and r is the no of elements taken from a given set.\n",
        "#The formula for Permutation (repetitive) is:\n",
        "#P (n, r) =n^r\n",
        "\n",
        "#--------------------------------------------------NON- REPITATIVE FORMULA FOR PERMUTATION---------------------------------------------------------------------\n",
        "\n",
        "import math\n",
        "#n=int (input (\"Enter the size of set : \"))\n",
        "#r=int (input (\"Enter the size of elements taken from the set : \"))\n",
        "\n",
        "def per(n,r):\n",
        "  return (math.factorial(n)/(math.factorial(n-r)))\n",
        "\n",
        "#------------------------------------------------------ REPITATIVE FORMULA FOR PERMUTATION---------------------------------------------------------------------\n",
        "\n",
        "#a=int (input (\"Enter the size of set : \"))\n",
        "#b=int (input (\"Enter the size of elements taken from the set : \"))\n",
        "\n",
        "def per_with_rep(n,r):\n",
        "  return n**r\n",
        "\n",
        "\n",
        "#example 1 :\n",
        "\n",
        "#To find the number of permutations of pocket Aces from a pack of cards such that you only pick 2 cards\n",
        "\n",
        "#With no repitation.\n",
        "\n",
        "#There are four Aces in a deck of cards, and these are all the different combinations of pocket Aces\n",
        "\n",
        "#/1.Ace Hearts / Ace Diamonds\n",
        "#2.Ace Hearts / Ace Clubs\n",
        "#3.Ace Hearts / Ace Spades\n",
        "#4.Ace Diamonds / Ace Clubs\n",
        "#5.Ace Diamonds / Ace Spades\n",
        "#6.Ace Clubs / Ace Spades\n",
        "\n",
        "#Here n = 4 as only 4 ace cards are there in a pack is 52 and r = 2 as we have to pick 2 cards\n",
        "n = 4\n",
        "r = 2\n",
        "print(\"\\nNumber of Ace cards in a Pack : \",n)\n",
        "print(\"\\nNumber of cards to be withdrawn : \",r)\n",
        "print(\"\\nPermuation is \",per(n,r))\n",
        "\n",
        "# Example 2 :\n",
        "\n",
        "#what is the possible permutation of having a 4-digit pin number from 10 single digit number i.e from 0 to 9 such that it is not repitative.\n",
        "\n",
        "#Here n = 10 and r = 4\n",
        "\n",
        "n = 10\n",
        "r = 4\n",
        "print(\"\\nTotal number of digits : \",n)\n",
        "print(\"\\nNumber of Digits for a pin to be created: \",r)\n",
        "print(\"\\nPermuation is \",per(n,r))\n",
        "\n",
        "# Example 3 :\n",
        "\n",
        "#what is the possible permutation of having a 4-digit pin number from 10 single digit number i.e from 0 to 9 such that it is repitative.\n",
        "\n",
        "#Here n = 10 and r = 4 \n",
        "\n",
        "n = 10\n",
        "r = 4\n",
        "print(\"\\nTotal number of digits : \",n)\n",
        "print(\"\\nNumber of Digits for a pin to be created: \",r)\n",
        "print(\"\\nPermuation with repitation is \",per_with_rep(n,r))\n",
        "\n",
        "#Example 4 :\n",
        "\n",
        "#You have a website on which users can register. They need to provide a password that needs to be exactly 8 characters long and it should be a cbination of characters and numbers such that the characters and numbers cannot repeat. We first need to determine how many characters and digits there are in the English alphabet:\n",
        "#the number of letters: 26\n",
        "#the number of digits: 10\n",
        "#Which is 36 in total. So, n = 36. r would then be 8, because the password needs to be 8 characters long\n",
        "\n",
        "n = 36\n",
        "r = 8\n",
        "print(\"\\nTotal number of digits : \",n)\n",
        "print(\"\\nLength of password : \",r)\n",
        "print(\"\\nPermuation is \",per(n,r))\n",
        "\n",
        "#Example 5 :\n",
        "\n",
        "#You have a website on which users can register. They need to provide a password that needs to be exactly 8 characters long and it should be a cbination of characters and numbers such that the characters and numbers can repeat. We first need to determine how many characters and digits there are in the English alphabet:\n",
        "#the number of letters: 26\n",
        "#the number of digits: 10\n",
        "#Which is 36 in total. So, n = 36. r would then be 8, because the password needs to be 8 characters long\n",
        "\n",
        "n = 36\n",
        "r = 8\n",
        "print(\"\\nTotal number of digits : \",n)\n",
        "print(\"\\nLength of password : \",r)\n",
        "print(\"\\nPermuation with repitation is \",per_with_rep(n,r))\n",
        "\n",
        "#-------------------------------------------------------------------------Combinations--------------------------------------------------------------------\n",
        "\n",
        "#What is Combination ?\n",
        "#A combination is a selection of items from a collection, such that (unlike permutations) the order of selection does not matter.\n",
        "#The formula for Combination (non-repetitive) is :\n",
        "#C(n,r)=n!/(r!(n-r)!)\n",
        "\n",
        "#The formula for Combination (repetitive) is :\n",
        "#C(n,r)=(n+r -1)!/(r!(n-1)!)\n",
        "\n",
        "#--------------------------------------------------NON- REPITATIVE FORMULA FOR COMBINATION---------------------------------------------------------------------\n",
        "\n",
        "#n=int(input(\"Enter the size of set : \"))\n",
        "#r=int(input(\"Enter the size of elements taken from the set : \"))\n",
        "\n",
        "def com(n,r):\n",
        "  return (math.factorial(n)/(math.factorial(r)*(math.factorial(n-r))))\n",
        "\n",
        "#------------------------------------------------------ REPITATIVE FORMULA FOR COMBINATION---------------------------------------------------------------------\n",
        "\n",
        "#a=int(input(\"Enter the size of set : \"))\n",
        "#b=int(input(\"Enter the size of elements taken from the set : \"))\n",
        "\n",
        "def com_with_rep(n,r):\n",
        "  return ((math.factorial(n+r-1))/(math.factorial(r)*(math.factorial(n-1))))\n",
        "\n",
        "# Example 1 \n",
        "\n",
        "#To find the number of permutations of pocket Aces from a pack of cards such that you only pick 2 cards\n",
        "\n",
        "#In a pack of card, no card is repetated so we will bw using the non repitative formula for combinations.\n",
        "\n",
        "#in this example,n = 52 as the no of cards in a pack is 52 and r = 2 as only 2 cards have to be withdrawn\n",
        "\n",
        "n=52\n",
        "r=2\n",
        "print(\"\\nTotal number of cards in a pack : \",n)\n",
        "print(\"\\nNumber of cards to be withdrawn : \",r)\n",
        "print(\"\\nCombination is \",com(n,r)) \n",
        "\n",
        "#example 2 :\n",
        "\n",
        "#On how many ways can you choose 11 people from a group of 110 for a football team?\n",
        "\n",
        "#here n= 110 and r = 11\n",
        "\n",
        "n=110\n",
        "r=11\n",
        "print(\"\\nTotal number of groups : \",n)\n",
        "print(\"\\nNumber of people to be chosen : \",r)\n",
        "print(\"\\nCombination is \",com(n,r)) \n",
        "\n",
        "#Example 3 :\n",
        "\n",
        "#You’re making a sandwich and you’re only allowed to use 4 ingredients out of 10 possible. However, the ingredients don’t have to be unique i.e the ingredients can be repitated.\n",
        "\n",
        "#As the ingrediants can be repitated, we wiil be using reitated formula of combination.\n",
        "\n",
        "#here n= 10 as it is the total no of ingredients available and r = 4 as it is the no of ingredients used.\n",
        "\n",
        "n=10\n",
        "r=4\n",
        "print(\"\\nTotal no of ingredients : \",n)\n",
        "print(\"\\nTotal no of ingredients to be taken : \",r)\n",
        "print(\"\\nCombination with repitation is \",com_with_rep(n,r))\n",
        "\n",
        "#Example 4 :\n",
        "\n",
        "#You’re making a sandwich and you’re only allowed to use 4 ingredients out of 10 possible. However, the ingredients have to be unique i.e the ingredients cannot be repitated.\n",
        "\n",
        "#As the ingrediants cannot be repitated, we wiil be using non repitated formula of combination.\n",
        "\n",
        "#here n= 10 as it is the total no of ingredients available and r = 4 as it is the no of ingredients used.\n",
        "\n",
        "n=10\n",
        "r=4\n",
        "print(\"\\nTotal no of ingredients : \",n)\n",
        "print(\"\\nTotal no of ingredients to be taken : \",r)\n",
        "print(\"\\nCombination is \",com(n,r))\n",
        "\n",
        "#Example 5 :\n",
        "\n",
        "#find all combinations containing exactly 2 letters from the word \"ABCDE\" such that its a unquie cobination i.e the letters should not be repetated\n",
        "\n",
        "#here n= 5 as the length of word \"ABCDE\" is 5 and r = 2 as we have to create combination with 2 letters of the word\n",
        "\n",
        "#The possible combinations are :\n",
        "\n",
        "#A B\n",
        "#A C\n",
        "#A D\n",
        "#A E\n",
        "#B C\n",
        "#B D\n",
        "#B E\n",
        "#C D\n",
        "#C E\n",
        "#D E\n",
        "\n",
        "n=5\n",
        "r=2\n",
        "print(\"\\nThe length of word 'ABCDE' : \",n)\n",
        "print(\"\\nNumber of letters taken from the word : \",r)\n",
        "print(\"\\nPossible Combination are \",com(n,r))\n",
        "\n"
      ],
      "execution_count": null,
      "outputs": [
        {
          "output_type": "stream",
          "text": [
            "\n",
            "The size of set :  4\n",
            "\n",
            "The size of elements taken from the set :  2\n",
            "\n",
            "Permuation is  12.0\n",
            "\n",
            "The size of set :  10\n",
            "\n",
            "The size of elements taken from the set :  4\n",
            "\n",
            "Permuation is  5040.0\n",
            "\n",
            "Total number of digits :  10\n",
            "\n",
            "Number of Digits for a pin to be created:  4\n",
            "\n",
            "Permuation with repitation is  10000\n",
            "\n",
            "the size of set :  36\n",
            "\n",
            "the size of elements taken from the set :  8\n",
            "\n",
            "Permuation is  1220096908800.0\n",
            "\n",
            "the size of set :  36\n",
            "\n",
            "the size of elements taken from the set :  8\n",
            "\n",
            "Permuation with repitation is  2821109907456\n",
            "\n",
            "Total number of cards in a pack :  52\n",
            "\n",
            "Number of cards to be drawn :  2\n",
            "\n",
            "Combination is  1326.0\n",
            "\n",
            "the size of set :  110\n",
            "\n",
            "the size of elements taken from the set :  11\n",
            "\n",
            "Combination is  426342151127100.0\n",
            "\n",
            "the size of set :  10\n",
            "\n",
            "the size of elements taken from the set :  4\n",
            "\n",
            "Combination with repitation is  715.0\n",
            "\n",
            "the size of set :  10\n",
            "\n",
            "the size of elements taken from the set :  4\n",
            "\n",
            "Combination is  210.0\n",
            "\n",
            "The length of word 'ABCDE' :  5\n",
            "\n",
            "Number of letters taken from the word :  2\n",
            "\n",
            "Possible Combination are  10.0\n"
          ],
          "name": "stdout"
        }
      ]
    },
    {
      "cell_type": "markdown",
      "metadata": {
        "id": "FhZX1icyw-G_"
      },
      "source": [
        "**4. Probability Likelihood**"
      ]
    },
    {
      "cell_type": "markdown",
      "metadata": {
        "id": "RKSY2Gicy0Sv"
      },
      "source": [
        "Probability corresponds to finding the chance of something given a sample distribution of the data, while on the other hand, Likelihood refers to finding the best distribution of the data given a particular value of some feature or some situation in the data.\n",
        "\n",
        "Maximum likelihood estimation(MLE) is a method of estimating the parametersof a statistical model given observations, by finding the parameter values that maximize the likelihood of making the observations given the parameters. MLE can be seen as a special case of the maximum a posteriori estimation (MAP) that assumes a uniform prior distribution of the parameters, or as a variant of the MAP that ignores the prior and which therefore is unregularized.\n",
        "\n",
        "\n",
        "A statistical method for estimating population parameters (such as the mean and variance) from sample data that selects as estimates those parameter values maximizing the probability of obtaining the observed data is called MLE.\n",
        "\n",
        "The maximum likelihood estimation is a method that determines values for parameters of the model. It is the statistical method of estimating the parameters of the probability distribution by maximizing the likelihood function. The point in which the parameter value that maximizes the likelihood function is called the maximum likelihood estimate. \n"
      ]
    },
    {
      "cell_type": "code",
      "metadata": {
        "colab": {
          "base_uri": "https://localhost:8080/"
        },
        "id": "P2Nhu8MNRMkK",
        "outputId": "f29fa020-dca7-4262-c04b-d1dd41c1b6cb"
      },
      "source": [
        "pip install numdifftools"
      ],
      "execution_count": null,
      "outputs": [
        {
          "output_type": "stream",
          "name": "stdout",
          "text": [
            "Looking in indexes: https://pypi.org/simple, https://us-python.pkg.dev/colab-wheels/public/simple/\n",
            "Collecting numdifftools\n",
            "  Downloading numdifftools-0.9.41-py2.py3-none-any.whl (100 kB)\n",
            "\u001b[?25l\r\u001b[K     |███▎                            | 10 kB 38.7 MB/s eta 0:00:01\r\u001b[K     |██████▌                         | 20 kB 49.5 MB/s eta 0:00:01\r\u001b[K     |█████████▉                      | 30 kB 61.8 MB/s eta 0:00:01\r\u001b[K     |█████████████                   | 40 kB 30.1 MB/s eta 0:00:01\r\u001b[K     |████████████████▍               | 51 kB 34.5 MB/s eta 0:00:01\r\u001b[K     |███████████████████▋            | 61 kB 38.4 MB/s eta 0:00:01\r\u001b[K     |██████████████████████▉         | 71 kB 32.9 MB/s eta 0:00:01\r\u001b[K     |██████████████████████████▏     | 81 kB 35.0 MB/s eta 0:00:01\r\u001b[K     |█████████████████████████████▍  | 92 kB 37.6 MB/s eta 0:00:01\r\u001b[K     |████████████████████████████████| 100 kB 10.3 MB/s \n",
            "\u001b[?25hRequirement already satisfied: numpy>=1.9 in /usr/local/lib/python3.7/dist-packages (from numdifftools) (1.21.6)\n",
            "Requirement already satisfied: scipy>=0.8 in /usr/local/lib/python3.7/dist-packages (from numdifftools) (1.7.3)\n",
            "Installing collected packages: numdifftools\n",
            "Successfully installed numdifftools-0.9.41\n"
          ]
        }
      ]
    },
    {
      "cell_type": "code",
      "metadata": {
        "id": "m5kGDFZmQ9yf"
      },
      "source": [
        "#import pymc3 as pm3\n",
        "import numpy as np\n",
        "import numdifftools as ndt\n",
        "import pandas as pd\n",
        "from scipy.stats import norm\n",
        "import statsmodels.api as sm\n",
        "from statsmodels.base.model import GenericLikelihoodModel\n",
        "from scipy.optimize import minimize\n",
        "import random\n",
        "import math\n",
        "import matplotlib.pylab as plt\n",
        "%matplotlib inline\n"
      ],
      "execution_count": null,
      "outputs": []
    },
    {
      "cell_type": "markdown",
      "metadata": {
        "id": "PvHHD7xHa-oi"
      },
      "source": [
        "eg.1"
      ]
    },
    {
      "cell_type": "code",
      "metadata": {
        "id": "uKv9HoLgHok0"
      },
      "source": [
        "def normal_pdf(x, mu = 1, sigma = 1):\n",
        "    return (1./np.sqrt(2*3.14 * sigma**2)) * 2.718**(-(x-mu)**2 / (2. * sigma**2))"
      ],
      "execution_count": null,
      "outputs": []
    },
    {
      "cell_type": "code",
      "metadata": {
        "colab": {
          "base_uri": "https://localhost:8080/",
          "height": 282
        },
        "id": "iEP9hKTeHstQ",
        "outputId": "7bb90769-ae1f-4476-86ef-0d4aefc3bd57"
      },
      "source": [
        "\n",
        "x_values = np.linspace(-10,10,100)\n",
        "y_values = [normal_pdf(x) for x in x_values]\n",
        "plt.plot(x_values, y_values)\n",
        "\n",
        "\n",
        "x_values = np.linspace(-10,10,100)\n",
        "y_values = [normal_pdf(x, sigma = 5) for x in x_values]\n",
        "plt.plot(x_values, y_values)\n",
        "\n",
        "y_values = [normal_pdf(x, mu = -5, sigma = 5) for x in x_values]\n",
        "plt.plot(x_values, y_values)"
      ],
      "execution_count": null,
      "outputs": [
        {
          "output_type": "execute_result",
          "data": {
            "text/plain": [
              "[<matplotlib.lines.Line2D at 0x7f214d15e990>]"
            ]
          },
          "metadata": {},
          "execution_count": 34
        },
        {
          "output_type": "display_data",
          "data": {
            "text/plain": [
              "<Figure size 432x288 with 1 Axes>"
            ],
            "image/png": "[encoded data removed]"
          },
          "metadata": {
            "needs_background": "light"
          }
        }
      ]
    },
    {
      "cell_type": "markdown",
      "metadata": {
        "id": "2q-T4zRza7fP"
      },
      "source": [
        "eg.2"
      ]
    },
    {
      "cell_type": "code",
      "metadata": {
        "id": "bFo57BWHSdUz"
      },
      "source": [
        "def normal_pdf(x, mu = 2, sigma = 1):\n",
        "    return (1./np.sqrt(2*3.14 * sigma**2)) * 2.718**(-(x-mu)**2 / (2. * sigma**2))"
      ],
      "execution_count": null,
      "outputs": []
    },
    {
      "cell_type": "code",
      "metadata": {
        "colab": {
          "base_uri": "https://localhost:8080/",
          "height": 282
        },
        "id": "13NCsz1nR2cK",
        "outputId": "f844f8fe-e22a-44b7-9193-bf98de52ba19"
      },
      "source": [
        "x_values = np.linspace(-20,20,150)\n",
        "y_values = [normal_pdf(x) for x in x_values]\n",
        "plt.plot(x_values, y_values)\n",
        "\n",
        "\n",
        "x_values = np.linspace(-10,10,100)\n",
        "y_values = [normal_pdf(x, sigma = 5) for x in x_values]\n",
        "plt.plot(x_values, y_values)\n",
        "\n",
        "y_values = [normal_pdf(x, mu = -5, sigma = 5) for x in x_values]\n",
        "plt.plot(x_values, y_values)"
      ],
      "execution_count": null,
      "outputs": [
        {
          "output_type": "execute_result",
          "data": {
            "text/plain": [
              "[<matplotlib.lines.Line2D at 0x7f214cc5ba10>]"
            ]
          },
          "metadata": {},
          "execution_count": 36
        },
        {
          "output_type": "display_data",
          "data": {
            "text/plain": [
              "<Figure size 432x288 with 1 Axes>"
            ],
            "image/png": "[encoded data removed]"
          },
          "metadata": {
            "needs_background": "light"
          }
        }
      ]
    },
    {
      "cell_type": "markdown",
      "metadata": {
        "id": "Flmmb_eTbHw2"
      },
      "source": [
        "eg.3"
      ]
    },
    {
      "cell_type": "code",
      "metadata": {
        "id": "_35d1uKobGlw"
      },
      "source": [
        "def normal_pdf(x, mu = 1, sigma = 1):\n",
        "    return (1./np.sqrt(2*3.14 * sigma**2)) * 2.718**(-(x-mu)**2 / (2. * sigma**2))"
      ],
      "execution_count": null,
      "outputs": []
    },
    {
      "cell_type": "code",
      "metadata": {
        "colab": {
          "base_uri": "https://localhost:8080/",
          "height": 282
        },
        "id": "jkDvAZXmbr_X",
        "outputId": "f9a69fa2-3e87-4fc0-f61e-2feeaad16ca2"
      },
      "source": [
        "x_values = np.linspace(-15,15,125)\n",
        "y_values = [normal_pdf(x) for x in x_values]\n",
        "plt.plot(x_values, y_values)\n",
        "\n",
        "\n",
        "x_values = np.linspace(-10,10,100)\n",
        "y_values = [normal_pdf(x, sigma = 5) for x in x_values]\n",
        "plt.plot(x_values, y_values)\n",
        "\n",
        "y_values = [normal_pdf(x, mu = -5, sigma = 5) for x in x_values]\n",
        "plt.plot(x_values, y_values)"
      ],
      "execution_count": null,
      "outputs": [
        {
          "output_type": "execute_result",
          "data": {
            "text/plain": [
              "[<matplotlib.lines.Line2D at 0x7f214cbf00d0>]"
            ]
          },
          "metadata": {},
          "execution_count": 38
        },
        {
          "output_type": "display_data",
          "data": {
            "text/plain": [
              "<Figure size 432x288 with 1 Axes>"
            ],
            "image/png": "[encoded data removed]"
          },
          "metadata": {
            "needs_background": "light"
          }
        }
      ]
    },
    {
      "cell_type": "markdown",
      "metadata": {
        "id": "EXYDGtFdcwVw"
      },
      "source": [
        "eg.4"
      ]
    },
    {
      "cell_type": "code",
      "metadata": {
        "id": "-nuo5DBtdyTp"
      },
      "source": [
        "import math\n",
        "import numpy as np\n",
        "from scipy.stats import binom\n",
        "\n",
        "import statsmodels.api as sm\n",
        "import matplotlib.pyplot as plt\n",
        "\n",
        "%matplotlib inline\n"
      ],
      "execution_count": null,
      "outputs": []
    },
    {
      "cell_type": "code",
      "metadata": {
        "colab": {
          "base_uri": "https://localhost:8080/",
          "height": 336
        },
        "id": "mHmIFW0nfHTo",
        "outputId": "72fa3df7-e4bc-44b0-99a2-d9a769e4a986"
      },
      "source": [
        "x = np.linspace(0, 10, 11)\n",
        "y = [0] * len(x)\n",
        "\n",
        "fig, ax = plt.subplots(1, 3,sharex=True,sharey=True)\n",
        "fig.set_size_inches(20, 5)\n",
        "# \n",
        "\n",
        "# --------------------------------------------------------------------------------\n",
        "# First\n",
        "# 5 heads out of 10\n",
        "# --------------------------------------------------------------------------------\n",
        "first = []\n",
        "for i in range(11):\n",
        "    first.append(binom.pmf(n=10,k=i,p=0.5))\n",
        "\n",
        "ax[0].grid(\n",
        "    color='lightblue',\n",
        "    linestyle='--',\n",
        "    linewidth=0.5\n",
        ")    \n",
        "ax[0].plot(\n",
        "    [5],\n",
        "    [0],\n",
        "    linestyle=\"None\",\n",
        "    marker='o',\n",
        "    markersize=10,\n",
        "    color='r'\n",
        ")\n",
        "ax[0].vlines(x=x, ymin=0, ymax=first, colors='b', linestyles='--', lw=2)\n",
        "ax[0].set_title('Initial 5 out of 10 toss')\n",
        "\n",
        "# --------------------------------------------------------------------------------\n",
        "# First + Second likelifood overlay\n",
        "# Likelifood for having had 8 heads out of 10\n",
        "# --------------------------------------------------------------------------------\n",
        "ax[1].grid(\n",
        "    color='lightblue',\n",
        "    linestyle='--',\n",
        "    linewidth=0.5\n",
        ")\n",
        "ax[1].plot(\n",
        "    [5, 8],\n",
        "    [0 ,0],\n",
        "    linestyle=\"None\",\n",
        "    marker='o',\n",
        "    markersize=10,\n",
        "    color='r'\n",
        ")\n",
        "likelihood = []\n",
        "for i in range(11):\n",
        "    likelihood.append(binom.pmf(n=10,k=i,p=0.8))\n",
        "\n",
        "ax[1].vlines(x=x, ymin=0, ymax=likelihood, colors='r', linestyles='-', lw=2)\n",
        "ax[1].vlines(x=x, ymin=0, ymax=first, colors='b', linestyles='--', lw=2)\n",
        "ax[1].set_title('8 out of 10 toss observed')\n",
        "\n",
        "second = np.multiply(first, likelihood)\n",
        "second = second / np.sum(second)\n",
        "\n",
        "# --------------------------------------------------------------------------------\\\n",
        "# Posterior\n",
        "# --------------------------------------------------------------------------------\n",
        "ax[2].grid(\n",
        "    color='lightblue',\n",
        "    linestyle='--',\n",
        "    linewidth=0.5\n",
        ")\n",
        "ax[2].plot(\n",
        "    [5, 8],\n",
        "    [0 ,0],\n",
        "    linestyle=\"None\",\n",
        "    marker='o',\n",
        "    markersize=10,\n",
        "    color='r'\n",
        ")\n",
        "ax[2].vlines(x=x, ymin=0, ymax=second, colors='k', linestyles='-', lw=1)\n",
        "ax[2].set_title('5 and 8 out of 10 toss')\n",
        "\n",
        "plt.show()"
      ],
      "execution_count": null,
      "outputs": [
        {
          "output_type": "display_data",
          "data": {
            "text/plain": [
              "<Figure size 1440x360 with 3 Axes>"
            ],
            "image/png": "[encoded data removed]"
          },
          "metadata": {
            "needs_background": "light"
          }
        }
      ]
    },
    {
      "cell_type": "markdown",
      "metadata": {
        "id": "WjgJxdEffxFQ"
      },
      "source": [
        "eg.5"
      ]
    },
    {
      "cell_type": "code",
      "metadata": {
        "id": "XhEVcsJRfyhB"
      },
      "source": [
        "def normal_pdf(x, mu = 2, sigma = 1):\n",
        "    return (1./np.sqrt(2*3.14 * sigma**2)) * 2.718**(-(x-mu)**2 / (2. * sigma**2))"
      ],
      "execution_count": null,
      "outputs": []
    },
    {
      "cell_type": "code",
      "metadata": {
        "colab": {
          "base_uri": "https://localhost:8080/",
          "height": 282
        },
        "id": "blzilz2MgBn3",
        "outputId": "00739ab1-76c1-4dda-ec71-bd58394d3e15"
      },
      "source": [
        "x_values = np.linspace(-30,30,200)\n",
        "y_values = [normal_pdf(x) for x in x_values]\n",
        "plt.plot(x_values, y_values)\n",
        "\n",
        "\n",
        "x_values = np.linspace(-10,10,100)\n",
        "y_values = [normal_pdf(x, sigma = 5) for x in x_values]\n",
        "plt.plot(x_values, y_values)\n",
        "\n",
        "y_values = [normal_pdf(x, mu = -5, sigma = 5) for x in x_values]\n",
        "plt.plot(x_values, y_values)"
      ],
      "execution_count": null,
      "outputs": [
        {
          "output_type": "execute_result",
          "data": {
            "text/plain": [
              "[<matplotlib.lines.Line2D at 0x7f214cb4e550>]"
            ]
          },
          "metadata": {},
          "execution_count": 42
        },
        {
          "output_type": "display_data",
          "data": {
            "text/plain": [
              "<Figure size 432x288 with 1 Axes>"
            ],
            "image/png": "[encoded data removed]"
          },
          "metadata": {
            "needs_background": "light"
          }
        }
      ]
    },
    {
      "cell_type": "markdown",
      "metadata": {
        "id": "bxJTZuQksj2v"
      },
      "source": [
        "**5. Probability Expectation**"
      ]
    },
    {
      "cell_type": "markdown",
      "metadata": {
        "id": "jW-ez9qOFgkO"
      },
      "source": [
        "**Expectation**\n",
        "\n",
        "  The expected value of an experiment is the probability-weighted average of all possible values. It is defined mathematically as the following:\n",
        "\n",
        "  [Math Processing Error]\n",
        "\n",
        "  The law of large numbers states that the average result from a series of trails will converge to the expected value. Roll the die to see convergence to its expected value. change the theoretical probability of the die to see how that changes the average and expected value."
      ]
    },
    {
      "cell_type": "markdown",
      "metadata": {
        "id": "MS0XYmFGFG7T"
      },
      "source": [
        "**Expectation**\n",
        "\n",
        "If you have a collection of numbers a1,a2,...,aN, their average is a single \n",
        "number that describes the whole collection. Now, consider a random variable X. \n",
        "We would like to define its average, or as it is called in probability, its expected value or mean. \n",
        "The expected value is defined as the weighted average of the values in the range."
      ]
    },
    {
      "cell_type": "markdown",
      "metadata": {
        "id": "qw2EvdKcAlIr"
      },
      "source": [
        "Expected value (= mean=average):\n",
        "\n",
        "Definition \n",
        "\n",
        "Let X be a discrete random variable with range RX={x1,x2,x3,...} (finite or countably infinite). The expected value of X, denoted by EX is defined as\n",
        "\n",
        "EX= ∑xk P(X=xk)=∑xk PX(xk)    where xk∈RX\n",
        "\n",
        "consider a discrete random variable with range RX={x1,x2,x3,...}. This random variable is a result of random experiment. Suppose that we repeat this experiment a very large number of times N, and that the trials are independent. Let N1 be the number of times we observe x1, N2 be the number of times we observe x2, ...., Nk be the number of times we observe xk, and so on. Since P(X=xk)=PX(xk), we expect that\n",
        "\n",
        "PX(x1)≈N1/N,\n",
        "\n",
        "PX(x2)≈N2/N,\n",
        "\n",
        "...\n",
        "\n",
        "PX(xk)≈Nk/N,\n",
        "\n",
        "...\n",
        "\n",
        "In other words, we have Nk≈N PX(xk). Now, if we take the average of the observed values of X, we obtain\n",
        "\n",
        "Average \t= N1x1+N2x2+N3x3+.../N\n",
        "\n",
        "          ≈ x1NPX(x1)+x2NPX(x2)+x3NPX(x3)+.../N\n",
        "          = x1 PX(x1)+x2 PX(x2)+x3 PX(x3)+...\n",
        "          = EX.\n",
        "\n",
        "Thus, the intuition behind EX is that if you repeat the random experiment independently N times and take the average of the observed data, the average gets closer and closer to EX as N gets larger and larger. We sometimes denote EX by μX.\n",
        "\n",
        "  Different notations for expected value of X: EX=E[X]=E(X)=μX.\n",
        "                  "
      ]
    },
    {
      "cell_type": "markdown",
      "metadata": {
        "id": "9OpzvB-9JYdL"
      },
      "source": [
        "**Example 1**\n",
        "\n",
        "Expectation or expected value of any group of numbers in probability is the long-run average value of repetitions of the experiment it represents. For example, the expected value in rolling a six-sided die is 3.5, because the average of all the numbers that come up in an extremely large number of rolls is close to 3.5. Less roughly, the law of large numbers states that the arithmetic mean of the values almost surely converges to the expected value as the number of repetitions approaches infinity. The expected value is also known as the expectation, mathematical expectation, EV, or first moment.\n",
        "Given an array, the task is to calculate the expected value of the array."
      ]
    },
    {
      "cell_type": "code",
      "metadata": {
        "id": "iMsorL0l_4KU",
        "colab": {
          "base_uri": "https://localhost:8080/"
        },
        "outputId": "ef1e5711-927c-4a97-ee27-69490b3f9009"
      },
      "source": [
        "# Example 1 : Find the Expected value of Rolling a dice \n",
        "\n",
        "# Function to calculate expectation \n",
        "def calc_Expectation(a, n): \n",
        "\t\n",
        "\t# variable prb is for probability \n",
        "\t# of each element which is same for \n",
        "\t# each element \n",
        "\tprb = 1 / n \n",
        "\t\n",
        "\t# calculating expectation overall \n",
        "\tsum = 0\n",
        "\tfor i in range(0, n): \n",
        "\t\tsum += (a[i] * prb) \n",
        "\t\t\n",
        "\t# returning expectation as sum \n",
        "\treturn float(sum) \n",
        "\n",
        "\n",
        "# Driver program \n",
        "n = 6; \n",
        "a = [ 1.0, 2.0, 3.0,4.0, 5.0, 6.0 ] \n",
        "\n",
        "# Function for calculating expectation or expected value\n",
        "expected_value = calc_Expectation(a, n) \n",
        "\n",
        "# Display expectation of given array \n",
        "print( \"Expectation of array E(X) is : \", expected_value ) "
      ],
      "execution_count": null,
      "outputs": [
        {
          "output_type": "stream",
          "name": "stdout",
          "text": [
            "Expectation of array E(X) is :  3.5\n"
          ]
        }
      ]
    },
    {
      "cell_type": "markdown",
      "metadata": {
        "id": "SicrV6XYyOCK"
      },
      "source": [
        "**Method 2**\n",
        "\n",
        "**Finding Expected Value**"
      ]
    },
    {
      "cell_type": "code",
      "metadata": {
        "colab": {
          "base_uri": "https://localhost:8080/"
        },
        "id": "goKRA2K4yHAl",
        "outputId": "f9ea6654-00a5-4d51-f454-fdcf7cc1623a"
      },
      "source": [
        "import random\n",
        "def DiceRoll():\n",
        "  return random.randint(1,6)  # here we are selecting the integer value from range. \n",
        "\n",
        "trials=[]\n",
        "noOfTrials=100\n",
        "for t in range(noOfTrials):\n",
        "  trials.append(DiceRoll())\n",
        "\n",
        "avgs = sum(trials)/float(noOfTrials)\n",
        "avgs"
      ],
      "execution_count": null,
      "outputs": [
        {
          "output_type": "execute_result",
          "data": {
            "text/plain": [
              "3.46"
            ]
          },
          "metadata": {},
          "execution_count": 44
        }
      ]
    },
    {
      "cell_type": "code",
      "metadata": {
        "id": "K5rV8Fqv1Xkq",
        "colab": {
          "base_uri": "https://localhost:8080/"
        },
        "outputId": "26e62f9e-db42-4b01-abd1-4b7b7b3146a5"
      },
      "source": [
        "nTrials=range(100,10000,10) # here we are repeating the experiment for large number of times\n",
        "avgs=[]\n",
        "for nt in nTrials:\n",
        "  trials=[]\n",
        "  for t in range(1,nt):\n",
        "    trials.append(DiceRoll())\n",
        "  avgs.append(sum(trials)/float(nt))\n",
        "avgs\n"
      ],
      "execution_count": null,
      "outputs": [
        {
          "output_type": "execute_result",
          "data": {
            "text/plain": [
              "[3.49,\n",
              " 3.4454545454545453,\n",
              " 3.375,\n",
              " 3.5538461538461537,\n",
              " 3.307142857142857,\n",
              " 3.5733333333333333,\n",
              " 3.79375,\n",
              " 3.364705882352941,\n",
              " 3.3,\n",
              " 3.136842105263158,\n",
              " 3.615,\n",
              " 3.6285714285714286,\n",
              " 3.6045454545454545,\n",
              " 3.3391304347826085,\n",
              " 3.4375,\n",
              " 3.628,\n",
              " 3.4269230769230767,\n",
              " 3.337037037037037,\n",
              " 3.6607142857142856,\n",
              " 3.4655172413793105,\n",
              " 3.63,\n",
              " 3.4096774193548387,\n",
              " 3.4125,\n",
              " 3.5424242424242425,\n",
              " 3.5205882352941176,\n",
              " 3.585714285714286,\n",
              " 3.408333333333333,\n",
              " 3.4891891891891893,\n",
              " 3.468421052631579,\n",
              " 3.5256410256410255,\n",
              " 3.5525,\n",
              " 3.4317073170731707,\n",
              " 3.5166666666666666,\n",
              " 3.453488372093023,\n",
              " 3.397727272727273,\n",
              " 3.562222222222222,\n",
              " 3.517391304347826,\n",
              " 3.491489361702128,\n",
              " 3.535416666666667,\n",
              " 3.442857142857143,\n",
              " 3.54,\n",
              " 3.5313725490196077,\n",
              " 3.5346153846153845,\n",
              " 3.450943396226415,\n",
              " 3.435185185185185,\n",
              " 3.612727272727273,\n",
              " 3.4,\n",
              " 3.519298245614035,\n",
              " 3.5120689655172415,\n",
              " 3.3813559322033897,\n",
              " 3.513333333333333,\n",
              " 3.442622950819672,\n",
              " 3.403225806451613,\n",
              " 3.5714285714285716,\n",
              " 3.5015625,\n",
              " 3.4784615384615383,\n",
              " 3.6363636363636362,\n",
              " 3.505970149253731,\n",
              " 3.498529411764706,\n",
              " 3.4942028985507245,\n",
              " 3.5285714285714285,\n",
              " 3.4901408450704223,\n",
              " 3.3777777777777778,\n",
              " 3.4602739726027396,\n",
              " 3.408108108108108,\n",
              " 3.372,\n",
              " 3.4671052631578947,\n",
              " 3.568831168831169,\n",
              " 3.537179487179487,\n",
              " 3.479746835443038,\n",
              " 3.55375,\n",
              " 3.508641975308642,\n",
              " 3.4878048780487805,\n",
              " 3.5156626506024096,\n",
              " 3.6488095238095237,\n",
              " 3.4835294117647058,\n",
              " 3.4965116279069766,\n",
              " 3.3045977011494254,\n",
              " 3.4125,\n",
              " 3.5146067415730338,\n",
              " 3.4477777777777776,\n",
              " 3.5395604395604394,\n",
              " 3.4565217391304346,\n",
              " 3.4161290322580644,\n",
              " 3.572340425531915,\n",
              " 3.482105263157895,\n",
              " 3.5,\n",
              " 3.495876288659794,\n",
              " 3.4938775510204083,\n",
              " 3.5454545454545454,\n",
              " 3.493,\n",
              " 3.498019801980198,\n",
              " 3.4490196078431374,\n",
              " 3.5912621359223302,\n",
              " 3.546153846153846,\n",
              " 3.4180952380952383,\n",
              " 3.4547169811320755,\n",
              " 3.4906542056074765,\n",
              " 3.4694444444444446,\n",
              " 3.4559633027522936,\n",
              " 3.542727272727273,\n",
              " 3.5693693693693693,\n",
              " 3.4348214285714285,\n",
              " 3.4256637168141593,\n",
              " 3.4570175438596493,\n",
              " 3.4478260869565216,\n",
              " 3.4198275862068965,\n",
              " 3.5205128205128204,\n",
              " 3.440677966101695,\n",
              " 3.4025210084033612,\n",
              " 3.6,\n",
              " 3.5115702479338844,\n",
              " 3.480327868852459,\n",
              " 3.4682926829268292,\n",
              " 3.4483870967741934,\n",
              " 3.5008,\n",
              " 3.5166666666666666,\n",
              " 3.5283464566929132,\n",
              " 3.48203125,\n",
              " 3.5565891472868216,\n",
              " 3.4915384615384615,\n",
              " 3.454198473282443,\n",
              " 3.496969696969697,\n",
              " 3.4586466165413534,\n",
              " 3.4925373134328357,\n",
              " 3.48,\n",
              " 3.4669117647058822,\n",
              " 3.4824817518248175,\n",
              " 3.523913043478261,\n",
              " 3.4676258992805757,\n",
              " 3.47,\n",
              " 3.4148936170212765,\n",
              " 3.415492957746479,\n",
              " 3.413986013986014,\n",
              " 3.40625,\n",
              " 3.442758620689655,\n",
              " 3.5554794520547945,\n",
              " 3.4693877551020407,\n",
              " 3.5412162162162164,\n",
              " 3.531543624161074,\n",
              " 3.425333333333333,\n",
              " 3.537086092715232,\n",
              " 3.5427631578947367,\n",
              " 3.5352941176470587,\n",
              " 3.463636363636364,\n",
              " 3.4561290322580644,\n",
              " 3.533974358974359,\n",
              " 3.464331210191083,\n",
              " 3.488607594936709,\n",
              " 3.508805031446541,\n",
              " 3.499375,\n",
              " 3.4217391304347826,\n",
              " 3.484567901234568,\n",
              " 3.5306748466257667,\n",
              " 3.506707317073171,\n",
              " 3.46,\n",
              " 3.5469879518072287,\n",
              " 3.534131736526946,\n",
              " 3.447619047619048,\n",
              " 3.5171597633136096,\n",
              " 3.510588235294118,\n",
              " 3.4321637426900584,\n",
              " 3.488372093023256,\n",
              " 3.446242774566474,\n",
              " 3.4028735632183906,\n",
              " 3.5268571428571427,\n",
              " 3.413068181818182,\n",
              " 3.498870056497175,\n",
              " 3.495505617977528,\n",
              " 3.5318435754189945,\n",
              " 3.473888888888889,\n",
              " 3.5723756906077346,\n",
              " 3.445604395604396,\n",
              " 3.5207650273224043,\n",
              " 3.440760869565217,\n",
              " 3.478918918918919,\n",
              " 3.4763440860215056,\n",
              " 3.5486631016042782,\n",
              " 3.499468085106383,\n",
              " 3.4915343915343917,\n",
              " 3.4721052631578946,\n",
              " 3.56282722513089,\n",
              " 3.517708333333333,\n",
              " 3.5580310880829016,\n",
              " 3.506701030927835,\n",
              " 3.502051282051282,\n",
              " 3.5275510204081635,\n",
              " 3.485279187817259,\n",
              " 3.4454545454545453,\n",
              " 3.4276381909547737,\n",
              " 3.507,\n",
              " 3.5039800995024875,\n",
              " 3.484158415841584,\n",
              " 3.461576354679803,\n",
              " 3.4151960784313724,\n",
              " 3.510731707317073,\n",
              " 3.5097087378640777,\n",
              " 3.521256038647343,\n",
              " 3.48125,\n",
              " 3.4976076555023923,\n",
              " 3.5152380952380953,\n",
              " 3.4919431279620854,\n",
              " 3.516509433962264,\n",
              " 3.5253521126760563,\n",
              " 3.4897196261682244,\n",
              " 3.526511627906977,\n",
              " 3.597685185185185,\n",
              " 3.4820276497695852,\n",
              " 3.5270642201834863,\n",
              " 3.505936073059361,\n",
              " 3.492272727272727,\n",
              " 3.5425339366515836,\n",
              " 3.531981981981982,\n",
              " 3.482959641255605,\n",
              " 3.4950892857142857,\n",
              " 3.474222222222222,\n",
              " 3.55,\n",
              " 3.5339207048458148,\n",
              " 3.4951754385964913,\n",
              " 3.477729257641921,\n",
              " 3.546086956521739,\n",
              " 3.5125541125541124,\n",
              " 3.516810344827586,\n",
              " 3.515450643776824,\n",
              " 3.4555555555555557,\n",
              " 3.5272340425531916,\n",
              " 3.564406779661017,\n",
              " 3.4957805907172994,\n",
              " 3.484873949579832,\n",
              " 3.494560669456067,\n",
              " 3.4704166666666665,\n",
              " 3.4804979253112034,\n",
              " 3.5070247933884295,\n",
              " 3.5213991769547324,\n",
              " 3.512295081967213,\n",
              " 3.533061224489796,\n",
              " 3.4987804878048783,\n",
              " 3.5299595141700406,\n",
              " 3.55,\n",
              " 3.519277108433735,\n",
              " 3.4764,\n",
              " 3.500796812749004,\n",
              " 3.5123015873015873,\n",
              " 3.493280632411067,\n",
              " 3.4598425196850395,\n",
              " 3.506666666666667,\n",
              " 3.450390625,\n",
              " 3.535019455252918,\n",
              " 3.4806201550387597,\n",
              " 3.530888030888031,\n",
              " 3.4673076923076924,\n",
              " 3.5049808429118774,\n",
              " 3.488167938931298,\n",
              " 3.461977186311787,\n",
              " 3.5318181818181817,\n",
              " 3.5445283018867926,\n",
              " 3.4721804511278194,\n",
              " 3.4808988764044946,\n",
              " 3.5,\n",
              " 3.5226765799256508,\n",
              " 3.5148148148148146,\n",
              " 3.4343173431734315,\n",
              " 3.5220588235294117,\n",
              " 3.4963369963369964,\n",
              " 3.462043795620438,\n",
              " 3.5374545454545454,\n",
              " 3.4583333333333335,\n",
              " 3.5028880866425993,\n",
              " 3.5201438848920863,\n",
              " 3.4491039426523296,\n",
              " 3.4875,\n",
              " 3.525622775800712,\n",
              " 3.4631205673758867,\n",
              " 3.492226148409894,\n",
              " 3.53556338028169,\n",
              " 3.4414035087719297,\n",
              " 3.4797202797202798,\n",
              " 3.5313588850174216,\n",
              " 3.495138888888889,\n",
              " 3.5217993079584775,\n",
              " 3.480344827586207,\n",
              " 3.5254295532646047,\n",
              " 3.53013698630137,\n",
              " 3.5238907849829353,\n",
              " 3.4591836734693877,\n",
              " 3.486779661016949,\n",
              " 3.4993243243243244,\n",
              " 3.491919191919192,\n",
              " 3.4895973154362414,\n",
              " 3.536789297658863,\n",
              " 3.514666666666667,\n",
              " 3.4425249169435217,\n",
              " 3.486092715231788,\n",
              " 3.558085808580858,\n",
              " 3.487828947368421,\n",
              " 3.520983606557377,\n",
              " 3.4562091503267975,\n",
              " 3.493811074918567,\n",
              " 3.4853896103896105,\n",
              " 3.4766990291262134,\n",
              " 3.5116129032258065,\n",
              " 3.5257234726688105,\n",
              " 3.476602564102564,\n",
              " 3.4568690095846644,\n",
              " 3.4869426751592356,\n",
              " 3.5136507936507937,\n",
              " 3.507594936708861,\n",
              " 3.4854889589905365,\n",
              " 3.4849056603773585,\n",
              " 3.4871473354231974,\n",
              " 3.4915625,\n",
              " 3.4900311526479753,\n",
              " 3.479813664596273,\n",
              " 3.498761609907121,\n",
              " 3.5484567901234567,\n",
              " 3.487076923076923,\n",
              " 3.4812883435582824,\n",
              " 3.480428134556575,\n",
              " 3.4786585365853657,\n",
              " 3.529483282674772,\n",
              " 3.4396969696969695,\n",
              " 3.5021148036253775,\n",
              " 3.446987951807229,\n",
              " 3.526726726726727,\n",
              " 3.537125748502994,\n",
              " 3.4546268656716417,\n",
              " 3.444642857142857,\n",
              " 3.467952522255193,\n",
              " 3.5659763313609467,\n",
              " 3.478466076696165,\n",
              " 3.506764705882353,\n",
              " 3.5134897360703814,\n",
              " 3.513450292397661,\n",
              " 3.5317784256559768,\n",
              " 3.486046511627907,\n",
              " 3.4965217391304346,\n",
              " 3.5,\n",
              " 3.537463976945245,\n",
              " 3.5008620689655174,\n",
              " 3.484813753581662,\n",
              " 3.5122857142857145,\n",
              " 3.4977207977207976,\n",
              " 3.4730113636363638,\n",
              " 3.5181303116147307,\n",
              " 3.5573446327683618,\n",
              " 3.466760563380282,\n",
              " 3.5441011235955058,\n",
              " 3.4210084033613444,\n",
              " 3.5089385474860335,\n",
              " 3.5036211699164346,\n",
              " 3.475277777777778,\n",
              " 3.538781163434903,\n",
              " 3.511878453038674,\n",
              " 3.4980716253443527,\n",
              " 3.4524725274725276,\n",
              " 3.4852054794520546,\n",
              " 3.501366120218579,\n",
              " 3.5024523160762944,\n",
              " 3.539945652173913,\n",
              " 3.518428184281843,\n",
              " 3.494054054054054,\n",
              " 3.496495956873315,\n",
              " 3.516935483870968,\n",
              " 3.49142091152815,\n",
              " 3.541711229946524,\n",
              " 3.5109333333333335,\n",
              " 3.510372340425532,\n",
              " 3.4923076923076923,\n",
              " 3.5235449735449738,\n",
              " 3.499472295514512,\n",
              " 3.5376315789473685,\n",
              " 3.4753280839895013,\n",
              " 3.525130890052356,\n",
              " 3.564490861618799,\n",
              " 3.509635416666667,\n",
              " 3.490649350649351,\n",
              " 3.5191709844559584,\n",
              " 3.519638242894057,\n",
              " 3.495618556701031,\n",
              " 3.52853470437018,\n",
              " 3.5233333333333334,\n",
              " 3.4641943734015346,\n",
              " 3.4668367346938775,\n",
              " 3.4872773536895676,\n",
              " 3.4934010152284265,\n",
              " 3.4736708860759493,\n",
              " 3.5098484848484848,\n",
              " 3.4642317380352643,\n",
              " 3.4761306532663316,\n",
              " 3.4413533834586465,\n",
              " 3.5025,\n",
              " 3.512718204488778,\n",
              " 3.4748756218905474,\n",
              " 3.517617866004963,\n",
              " 3.46980198019802,\n",
              " 3.5560493827160493,\n",
              " 3.469950738916256,\n",
              " 3.4734643734643735,\n",
              " 3.4833333333333334,\n",
              " 3.573838630806846,\n",
              " 3.4990243902439024,\n",
              " 3.4766423357664236,\n",
              " 3.458009708737864,\n",
              " 3.4900726392251817,\n",
              " 3.5007246376811594,\n",
              " 3.478313253012048,\n",
              " 3.4985576923076924,\n",
              " 3.4760191846522783,\n",
              " 3.4483253588516747,\n",
              " 3.5162291169451074,\n",
              " 3.4673809523809522,\n",
              " 3.5280285035629455,\n",
              " 3.519431279620853,\n",
              " 3.5215130023640664,\n",
              " 3.5830188679245283,\n",
              " 3.5,\n",
              " 3.4976525821596245,\n",
              " 3.512646370023419,\n",
              " 3.488785046728972,\n",
              " 3.468997668997669,\n",
              " 3.4965116279069766,\n",
              " 3.509048723897912,\n",
              " 3.5243055555555554,\n",
              " 3.5290993071593535,\n",
              " 3.4870967741935486,\n",
              " 3.4855172413793105,\n",
              " 3.4841743119266053,\n",
              " 3.4812356979405035,\n",
              " 3.5598173515981735,\n",
              " 3.4945330296127564,\n",
              " 3.523409090909091,\n",
              " 3.493197278911565,\n",
              " 3.5271493212669682,\n",
              " 3.525959367945824,\n",
              " 3.463963963963964,\n",
              " 3.4986516853932583,\n",
              " 3.4926008968609867,\n",
              " 3.4982102908277404,\n",
              " 3.530580357142857,\n",
              " 3.5447661469933185,\n",
              " 3.5366666666666666,\n",
              " 3.4631929046563195,\n",
              " 3.518805309734513,\n",
              " 3.5282560706401767,\n",
              " 3.5024229074889868,\n",
              " 3.490989010989011,\n",
              " 3.532017543859649,\n",
              " 3.5,\n",
              " 3.4316593886462883,\n",
              " 3.4705882352941178,\n",
              " 3.5204347826086955,\n",
              " 3.5412147505422995,\n",
              " 3.51991341991342,\n",
              " 3.4812095032397408,\n",
              " 3.498491379310345,\n",
              " 3.4574193548387098,\n",
              " 3.5087982832618025,\n",
              " 3.5291220556745184,\n",
              " 3.5136752136752136,\n",
              " 3.4859275053304906,\n",
              " 3.5295744680851064,\n",
              " 3.4808917197452227,\n",
              " 3.507415254237288,\n",
              " 3.494080338266385,\n",
              " 3.509071729957806,\n",
              " 3.4825263157894737,\n",
              " 3.5149159663865546,\n",
              " 3.4821802935010484,\n",
              " 3.505020920502092,\n",
              " 3.4686847599164925,\n",
              " 3.475,\n",
              " 3.507900207900208,\n",
              " 3.4595435684647304,\n",
              " 3.5072463768115942,\n",
              " 3.5254132231404958,\n",
              " 3.46680412371134,\n",
              " 3.541358024691358,\n",
              " 3.4905544147843943,\n",
              " 3.5043032786885244,\n",
              " 3.5134969325153373,\n",
              " 3.547551020408163,\n",
              " 3.5307535641547863,\n",
              " 3.511788617886179,\n",
              " 3.523123732251521,\n",
              " 3.483400809716599,\n",
              " 3.4909090909090907,\n",
              " 3.5258064516129033,\n",
              " 3.5233400402414485,\n",
              " 3.494578313253012,\n",
              " 3.5124248496993986,\n",
              " 3.4932,\n",
              " 3.4962075848303393,\n",
              " 3.502589641434263,\n",
              " 3.532803180914513,\n",
              " 3.478968253968254,\n",
              " 3.4744554455445544,\n",
              " 3.5128458498023716,\n",
              " 3.513214990138067,\n",
              " 3.5181102362204726,\n",
              " 3.5023575638506874,\n",
              " 3.4874509803921567,\n",
              " 3.4794520547945207,\n",
              " 3.4890625,\n",
              " 3.5161793372319687,\n",
              " 3.5118677042801556,\n",
              " 3.521747572815534,\n",
              " 3.4846899224806203,\n",
              " 3.504448742746615,\n",
              " 3.476640926640927,\n",
              " 3.4805394990366088,\n",
              " 3.486153846153846,\n",
              " 3.5276391554702493,\n",
              " 3.513026819923372,\n",
              " 3.4891013384321226,\n",
              " 3.4782442748091604,\n",
              " 3.488952380952381,\n",
              " 3.514638783269962,\n",
              " 3.4851992409867174,\n",
              " 3.534280303030303,\n",
              " 3.4920604914933837,\n",
              " 3.500943396226415,\n",
              " 3.531638418079096,\n",
              " 3.4759398496240603,\n",
              " 3.527392120075047,\n",
              " 3.498876404494382,\n",
              " 3.487102803738318,\n",
              " 3.4725746268656716,\n",
              " 3.485102420856611,\n",
              " 3.4771375464684016,\n",
              " 3.4938775510204083,\n",
              " 3.5016666666666665,\n",
              " 3.5162661737523107,\n",
              " 3.5083025830258303,\n",
              " 3.492633517495396,\n",
              " 3.4977941176470586,\n",
              " 3.493394495412844,\n",
              " 3.4804029304029305,\n",
              " 3.506398537477148,\n",
              " 3.4927007299270074,\n",
              " 3.5009107468123863,\n",
              " 3.522181818181818,\n",
              " 3.4823956442831214,\n",
              " 3.4940217391304347,\n",
              " 3.4857142857142858,\n",
              " 3.51101083032491,\n",
              " 3.5108108108108107,\n",
              " 3.5012589928057554,\n",
              " 3.4861759425493717,\n",
              " 3.5188172043010755,\n",
              " 3.482468694096601,\n",
              " 3.4969642857142857,\n",
              " 3.5155080213903744,\n",
              " 3.5229537366548045,\n",
              " 3.4930728241563056,\n",
              " 3.4934397163120567,\n",
              " 3.4741592920353983,\n",
              " 3.496643109540636,\n",
              " 3.4883597883597885,\n",
              " 3.5163732394366196,\n",
              " 3.4710017574692444,\n",
              " 3.5056140350877194,\n",
              " 3.4737302977232924,\n",
              " 3.4856643356643358,\n",
              " 3.5169284467713786,\n",
              " 3.5238675958188153,\n",
              " 3.4641739130434783,\n",
              " 3.5269097222222223,\n",
              " 3.491681109185442,\n",
              " 3.472318339100346,\n",
              " 3.522107081174439,\n",
              " 3.4617241379310344,\n",
              " 3.506196213425129,\n",
              " 3.476975945017182,\n",
              " 3.4622641509433962,\n",
              " 3.5003424657534246,\n",
              " 3.5302564102564102,\n",
              " 3.460750853242321,\n",
              " 3.5282793867120956,\n",
              " 3.514795918367347,\n",
              " 3.463667232597623,\n",
              " 3.482372881355932,\n",
              " 3.5187817258883247,\n",
              " 3.520945945945946,\n",
              " 3.5345699831365938,\n",
              " 3.5272727272727273,\n",
              " 3.513109243697479,\n",
              " 3.513255033557047,\n",
              " 3.5122278056951424,\n",
              " 3.4615384615384617,\n",
              " 3.518363939899833,\n",
              " 3.5385,\n",
              " 3.509151414309484,\n",
              " 3.506644518272425,\n",
              " 3.4907131011608623,\n",
              " 3.487251655629139,\n",
              " 3.5016528925619834,\n",
              " 3.481683168316832,\n",
              " 3.4922570016474466,\n",
              " 3.4934210526315788,\n",
              " 3.483415435139573,\n",
              " 3.5214754098360657,\n",
              " 3.507037643207856,\n",
              " 3.494281045751634,\n",
              " 3.5159869494290374,\n",
              " 3.4895765472312705,\n",
              " 3.497560975609756,\n",
              " 3.531168831168831,\n",
              " 3.5487844408427875,\n",
              " 3.4514563106796117,\n",
              " 3.468012924071082,\n",
              " 3.4496774193548387,\n",
              " 3.4979066022544285,\n",
              " 3.491961414790997,\n",
              " 3.5109149277688605,\n",
              " 3.5243589743589743,\n",
              " 3.504,\n",
              " 3.5116613418530354,\n",
              " 3.5208931419457734,\n",
              " 3.512579617834395,\n",
              " 3.5348171701112876,\n",
              " 3.4838095238095237,\n",
              " 3.483042789223455,\n",
              " 3.472784810126582,\n",
              " 3.504739336492891,\n",
              " 3.5102523659305995,\n",
              " 3.505826771653543,\n",
              " 3.4880503144654087,\n",
              " 3.46138147566719,\n",
              " 3.517554858934169,\n",
              " 3.492018779342723,\n",
              " 3.4628125,\n",
              " 3.4989079563182526,\n",
              " 3.488785046728972,\n",
              " 3.4735614307931573,\n",
              " 3.484782608695652,\n",
              " 3.526511627906977,\n",
              " 3.5089783281733746,\n",
              " 3.493353941267388,\n",
              " 3.522993827160494,\n",
              " 3.4902927580893683,\n",
              " 3.4933846153846155,\n",
              " 3.4827956989247313,\n",
              " 3.458435582822086,\n",
              " 3.5053598774885146,\n",
              " 3.46177370030581,\n",
              " 3.5131297709923666,\n",
              " 3.513719512195122,\n",
              " 3.5118721461187214,\n",
              " 3.47370820668693,\n",
              " 3.4808801213960545,\n",
              " 3.5109090909090908,\n",
              " 3.499394856278366,\n",
              " 3.4853474320241693,\n",
              " 3.447209653092006,\n",
              " 3.4974397590361446,\n",
              " 3.543609022556391,\n",
              " 3.487987987987988,\n",
              " 3.464167916041979,\n",
              " 3.4619760479041917,\n",
              " 3.52660687593423,\n",
              " 3.495373134328358,\n",
              " 3.490461997019374,\n",
              " 3.504166666666667,\n",
              " 3.5074294205052006,\n",
              " 3.4722551928783383,\n",
              " 3.5068148148148146,\n",
              " 3.4884615384615385,\n",
              " 3.526735598227474,\n",
              " 3.513716814159292,\n",
              " 3.517378497790869,\n",
              " 3.4779411764705883,\n",
              " 3.5105726872246694,\n",
              " 3.4919354838709675,\n",
              " 3.471156661786237,\n",
              " 3.489912280701754,\n",
              " 3.486131386861314,\n",
              " 3.5135568513119533,\n",
              " 3.4627365356623,\n",
              " 3.525145348837209,\n",
              " 3.4560232220609577,\n",
              " 3.5188405797101447,\n",
              " 3.4819102749638207,\n",
              " 3.496676300578035,\n",
              " 3.484126984126984,\n",
              " 3.492507204610951,\n",
              " 3.494388489208633,\n",
              " 3.5160919540229885,\n",
              " 3.5289813486370156,\n",
              " 3.489971346704871,\n",
              " 3.4796852646638055,\n",
              " 3.4938571428571428,\n",
              " 3.548074179743224,\n",
              " 3.4722222222222223,\n",
              " 3.5065433854907537,\n",
              " 3.534375,\n",
              " 3.4636879432624115,\n",
              " 3.4919263456090652,\n",
              " 3.484016973125884,\n",
              " 3.4902542372881356,\n",
              " 3.4847672778561356,\n",
              " 3.4733802816901407,\n",
              " 3.4829817158931085,\n",
              " 3.4962078651685395,\n",
              " 3.4984572230014024,\n",
              " 3.488515406162465,\n",
              " 3.4959440559440558,\n",
              " 3.4899441340782125,\n",
              " 3.505299860529986,\n",
              " 3.506824512534819,\n",
              " 3.491655076495132,\n",
              " 3.4944444444444445,\n",
              " 3.484882108183079,\n",
              " 3.5069252077562325,\n",
              " 3.506362378976487,\n",
              " 3.494060773480663,\n",
              " 3.5013793103448276,\n",
              " 3.4892561983471073,\n",
              " 3.5031636863823934,\n",
              " 3.479807692307692,\n",
              " 3.4914951989026064,\n",
              " 3.478767123287671,\n",
              " 3.478112175102599,\n",
              " 3.5099726775956284,\n",
              " 3.4796725784447475,\n",
              " 3.496457765667575,\n",
              " 3.499591836734694,\n",
              " 3.480298913043478,\n",
              " 3.4751696065128903,\n",
              " 3.4636856368563684,\n",
              " 3.4979702300405955,\n",
              " 3.457027027027027,\n",
              " 3.483940620782726,\n",
              " 3.50633423180593,\n",
              " 3.4858681022880216,\n",
              " 3.4896505376344087,\n",
              " 3.4946308724832216,\n",
              " 3.506166219839142,\n",
              " 3.5099062918340027,\n",
              " 3.481951871657754,\n",
              " 3.528437917222964,\n",
              " 3.4797333333333333,\n",
              " 3.51185086551265,\n",
              " 3.4642287234042555,\n",
              " 3.494555112881806,\n",
              " 3.477453580901857,\n",
              " 3.513907284768212,\n",
              " 3.5046296296296298,\n",
              " 3.520871862615588,\n",
              " 3.5010554089709762,\n",
              " 3.508695652173913,\n",
              " 3.509078947368421,\n",
              " 3.509724047306176,\n",
              " 3.503805774278215,\n",
              " 3.5022280471821756,\n",
              " 3.5200261780104714,\n",
              " 3.482091503267974,\n",
              " 3.4825065274151434,\n",
              " 3.4972620599739246,\n",
              " 3.491015625,\n",
              " 3.477243172951886,\n",
              " 3.47987012987013,\n",
              " 3.5055771725032425,\n",
              " 3.5247409326424872,\n",
              " 3.5014230271668825,\n",
              " 3.4918604651162792,\n",
              " 3.4961290322580645,\n",
              " 3.484922680412371,\n",
              " 3.476962676962677,\n",
              " 3.5222365038560413,\n",
              " 3.5317073170731708,\n",
              " 3.4765384615384614,\n",
              " 3.4816901408450702,\n",
              " 3.4656010230179026,\n",
              " 3.502809706257982,\n",
              " 3.5125,\n",
              " 3.4895541401273884,\n",
              " 3.505470737913486,\n",
              " 3.522363405336722,\n",
              " 3.499238578680203,\n",
              " 3.5055766793409378,\n",
              " 3.5087341772151897,\n",
              " 3.4801517067003793,\n",
              " 3.5063131313131315,\n",
              " 3.5105926860025223,\n",
              " 3.483375314861461,\n",
              " 3.496352201257862,\n",
              " 3.48643216080402,\n",
              " 3.493099121706399,\n",
              " 3.4773182957393485,\n",
              " 3.4780976220275344,\n",
              " 3.5045,\n",
              " 3.4966292134831463,\n",
              " 3.529426433915212,\n",
              " 3.5272727272727273,\n",
              " 3.5095771144278607,\n",
              " 3.4771428571428573,\n",
              " 3.5062034739454093,\n",
              " 3.5086741016109046,\n",
              " 3.482673267326733,\n",
              " 3.4929542645241036,\n",
              " 3.4793827160493827,\n",
              " 3.5055487053020964,\n",
              " 3.49692118226601,\n",
              " 3.5068880688806887,\n",
              " 3.497788697788698,\n",
              " 3.5175460122699387,\n",
              " 3.486764705882353,\n",
              " 3.5288861689106485,\n",
              " 3.5223716381418093,\n",
              " 3.5105006105006105,\n",
              " 3.4715853658536586,\n",
              " 3.512667478684531,\n",
              " 3.476034063260341,\n",
              " 3.54179829890644,\n",
              " 3.500728155339806,\n",
              " 3.512,\n",
              " 3.4947941888619853,\n",
              " 3.4915356711003627,\n",
              " 3.4920289855072464,\n",
              " 3.499879372738239,\n",
              " 3.4816867469879518,\n",
              " 3.538387484957882,\n",
              " 3.4662259615384614,\n",
              " 3.502641056422569,\n",
              " 3.5302158273381297,\n",
              " 3.4535329341317365,\n",
              " 3.4973684210526317,\n",
              " 3.4845878136200716,\n",
              " 3.5187350835322198,\n",
              " 3.4816448152562574,\n",
              " 3.5045238095238096,\n",
              " 3.5278240190249703,\n",
              " 3.4564133016627077,\n",
              " 3.4956109134045077,\n",
              " 3.498104265402844,\n",
              " 3.4771597633136095,\n",
              " 3.4875886524822697,\n",
              " 3.4844155844155846,\n",
              " 3.5096698113207547,\n",
              " 3.489634864546525,\n",
              " 3.522,\n",
              " 3.4970622796709754,\n",
              " 3.511737089201878,\n",
              " 3.5099648300117234,\n",
              " 3.527634660421546,\n",
              " 3.5098245614035086,\n",
              " 3.513084112149533,\n",
              " 3.5284714119019838,\n",
              " 3.5217948717948717,\n",
              " 3.521769499417928,\n",
              " 3.4948837209302326,\n",
              " 3.494425087108014,\n",
              " 3.4677494199535963,\n",
              " 3.4966396292004633,\n",
              " 3.489351851851852,\n",
              " 3.470751445086705,\n",
              " 3.5009237875288686,\n",
              " 3.491118800461361,\n",
              " 3.511290322580645,\n",
              " 3.535097813578826,\n",
              " 3.501034482758621,\n",
              " 3.505166475315729,\n",
              " 3.516284403669725,\n",
              " 3.5148911798396334,\n",
              " 3.4752860411899316,\n",
              " 3.532457142857143,\n",
              " 3.492808219178082,\n",
              " 3.483352337514253,\n",
              " 3.5273348519362187,\n",
              " 3.4802047781569967,\n",
              " 3.4897727272727272,\n",
              " 3.498410896708286,\n",
              " 3.5268707482993196,\n",
              " 3.530237825594564,\n",
              " 3.4705882352941178,\n",
              " 3.477627118644068,\n",
              " 3.4839729119638827,\n",
              " 3.480947012401353,\n",
              " 3.5127252252252252,\n",
              " 3.4822272215973005,\n",
              " 3.5023595505617977,\n",
              " 3.5148148148148146,\n",
              " 3.496188340807175,\n",
              " 3.51511758118701,\n",
              " 3.497539149888143,\n",
              " 3.50927374301676,\n",
              " 3.5118303571428573,\n",
              " 3.5082497212931996,\n",
              " 3.5106904231625835,\n",
              " 3.4984427141268077,\n",
              " 3.5104444444444445,\n",
              " 3.513429522752497,\n",
              " 3.479490022172949,\n",
              " 3.4853820598006644,\n",
              " 3.518473451327434,\n",
              " 3.509502762430939,\n",
              " 3.517991169977925,\n",
              " 3.5126791620727675,\n",
              " 3.4970264317180617,\n",
              " 3.4793179317931795,\n",
              " 3.4814285714285713,\n",
              " 3.509330406147091,\n",
              " 3.4898026315789474,\n",
              " 3.496604600219058,\n",
              " 3.489387308533917,\n",
              " 3.4856830601092894,\n",
              " 3.493013100436681,\n",
              " 3.495092693565976,\n",
              " 3.546623093681917,\n",
              " 3.523830250272035,\n",
              " 3.5,\n",
              " 3.5175895765472314,\n",
              " 3.5252711496746203,\n",
              " 3.493499458288191,\n",
              " 3.5327922077922076,\n",
              " 3.4931891891891893,\n",
              " 3.5271058315334773,\n",
              " 3.4960086299892126,\n",
              " 3.4864224137931035,\n",
              " 3.506458557588805,\n",
              " 3.5036559139784944,\n",
              " 3.4903329752953813,\n",
              " 3.4862660944206008,\n",
              " 3.460664523043944,\n",
              " 3.473447537473233,\n",
              " 3.5098395721925133,\n",
              " 3.4905982905982906,\n",
              " 3.5214514407684097,\n",
              " 3.48272921108742,\n",
              " 3.479978700745474,\n",
              " 3.498404255319149,\n",
              " 3.5070138150903296,\n",
              " 3.4881104033970276,\n",
              " 3.514422057264051,\n",
              " 3.4784957627118644,\n",
              " 3.47026455026455,\n",
              " 3.4817124735729386,\n",
              " 3.5261879619852166,\n",
              " 3.463291139240506,\n",
              " 3.494731296101159,\n",
              " 3.5438947368421054,\n",
              " 3.53869610935857,\n",
              " 3.478046218487395,\n",
              " 3.488667366211962,\n",
              " 3.5041928721174003,\n",
              " 3.5098429319371727,\n",
              " 3.482845188284519,\n",
              " 3.481400208986416,\n",
              " 3.47160751565762,\n",
              " 3.511678832116788,\n",
              " 3.5241666666666664,\n",
              " 3.4832466181061394,\n",
              " 3.461954261954262,\n",
              " 3.5031152647975077,\n",
              " 3.504149377593361,\n",
              " 3.516683937823834,\n",
              " 3.5014492753623188,\n",
              " 3.4975180972078594,\n",
              " 3.522314049586777,\n",
              " 3.514551083591331,\n",
              " 3.520618556701031,\n",
              " 3.499794026776519,\n",
              " 3.475102880658436,\n",
              " 3.4979445015416237,\n",
              " 3.504004106776181,\n",
              " 3.5125128205128204,\n",
              " 3.4883196721311474,\n",
              " 3.5129989764585465,\n",
              " 3.4996932515337424,\n",
              " 3.495812053115424,\n",
              " 3.4822448979591836,\n",
              " 3.5192660550458714,\n",
              " 3.505295315682281,\n",
              " 3.505086469989827,\n",
              " 3.5082317073170732,\n",
              " 3.4905583756345178,\n",
              " 3.515720081135903,\n",
              " 3.5285714285714285,\n",
              " 3.5045546558704452,\n",
              " 3.4946410515672395,\n",
              " 3.5072727272727273,\n",
              " 3.52058526740666,\n",
              " 3.4867943548387097,\n",
              " 3.4658610271903325,\n",
              " 3.4995975855130785,\n",
              " 3.5348743718592965,\n",
              " 3.5126506024096384,\n",
              " 3.5074222668004014,\n",
              " 3.4748496993987974,\n",
              " 3.5181181181181183]"
            ]
          },
          "metadata": {},
          "execution_count": 45
        }
      ]
    },
    {
      "cell_type": "markdown",
      "metadata": {
        "id": "2aqoYq5d2qS7"
      },
      "source": [
        "Above we are repeating the experiments large number of times Now we analyze the result using plot."
      ]
    },
    {
      "cell_type": "code",
      "metadata": {
        "colab": {
          "base_uri": "https://localhost:8080/",
          "height": 296
        },
        "id": "8KlRT-Li3NkI",
        "outputId": "9752242f-4c38-435a-9e92-c2bbfc38d740"
      },
      "source": [
        "import matplotlib.pyplot as plt\n",
        "plt.plot(nTrials,avgs)\n",
        "plt.xlabel('No. of Trials')\n",
        "plt.ylabel('Avgs')"
      ],
      "execution_count": null,
      "outputs": [
        {
          "output_type": "execute_result",
          "data": {
            "text/plain": [
              "Text(0, 0.5, 'Avgs')"
            ]
          },
          "metadata": {},
          "execution_count": 46
        },
        {
          "output_type": "display_data",
          "data": {
            "text/plain": [
              "<Figure size 432x288 with 1 Axes>"
            ],
            "image/png": "[encoded data removed]"
          },
          "metadata": {
            "needs_background": "light"
          }
        }
      ]
    },
    {
      "cell_type": "markdown",
      "metadata": {
        "id": "qccGjjT74SLL"
      },
      "source": [
        "Above plot represents the average dice rolls. Here we can see that when we are having 0 number of trials or trials in between o to 100 the values are more flexible there or the values are moving from 3.2 to 3.8 average values and when we are moving towards 2000, 4000 you can see the sample mean or expected value , here sample mean actually we are taking the average or actually we are calculating the sample mean , so we can see in the plot that sampling mean moving towards the expected value. So we can see for 10000 the maximum number of times the value is 3.5. So above the average value is 3.45 for when we are doing it for 100 times. And from graph we are getting the average value as 3.5. \n"
      ]
    },
    {
      "cell_type": "markdown",
      "metadata": {
        "id": "F5Sus6flE1b-"
      },
      "source": [
        "We can define that if we roll the dice for 10000 times then the Average or expected dice roll is 3.5 or approximately equal to 3.5."
      ]
    },
    {
      "cell_type": "markdown",
      "metadata": {
        "id": "iD7FrRbmE4qW"
      },
      "source": [
        "**Example 2**\n",
        "\n",
        "The game that will be used in this example is No Limit Texas Hold’em. Played with a standard 52 card deck, Texas Hold’em is the most popular of all the poker variations. Each player tries to make the best five-card hand possible by combining their two cards with the five community cards dealt throughout the hand.\n",
        "\n",
        "\n",
        "The player to the left of the dealer button starts the action and play moves clockwise around the table. The betting is typically started when the player to the left of the dealer button posts a small blind, and the next player to the left posts a big blind. Betting action takes place on multiple streets: preflop, flop, turn, and the river.\n",
        "\n",
        "\n",
        "Here are a few terms we should understand:\n",
        "\n",
        "\n",
        "**Button** - The Button is a circular disk that gets passed around the table clockwise after each hand. In a home game, the person who has the Button deals the hand dealing the first card to the player on their left. At a casino, the Button identifies who is supposed to be the dealer, but the actual dealer is provided by the casino.\n",
        "\n",
        "**The Blinds** - The Blinds are forced bets by the two players to the left of the Button. They are called “Blinds” because the two players have to bet blind, in that they have to bet before they get to see their cards.\n",
        "\n",
        "**Streets** - Each round that cards are dealt is referred to as a street.\n",
        "Pre-Flop - This is the first betting round. Each player is dealt two cards, and the blinds start the betting action. No community cards have been dealt yet.\n",
        "\n",
        "**Flop** - This is the second betting round. In this round, three community cards are dealt face up in the middle of the table, followed by a round of betting.\n",
        "\n",
        "**Turn** - In this round, only one community card is dealt, followed by the third round of betting.\n",
        "\n",
        "**The River** - The final community card is dealt, followed by the last round of betting.\n",
        "\n",
        "**Showdown** - After the River is dealt and all betting action has taken place, any remaining players Show their cards to see who has the best hand.\n",
        "\n",
        "**Check** - If it’s a player's turn to act, and no previous bets have been made during that round of betting, the player can Check which means to choose not to bet, and allow the next player to take their turn.\n",
        "\n",
        "**Bet or Raise** - Betting or Raising means to increase the size of the wager during a betting round. The first player to put money in the pot each round is making a Bet. If another player increases the size of the bet that round, they are making a Raise.\n",
        "\n",
        "**Call** - If it’s a player’s turn to act and a bet has already been made during that round, the player can match the previous bet which is known as Calling the bet.\n",
        "\n",
        "**Fold** -If it’s a player’s turn to act and a bet has already been made during that round, the player can give up and Fold their hand. This player is no longer involved in the hand and losses any money they have put in the pot."
      ]
    },
    {
      "cell_type": "markdown",
      "metadata": {
        "id": "0vXn2ujmS_tC"
      },
      "source": [
        "When playing a game such as poker, we're fairly concerned with questions such as \"how much do I gain - or lose - on average, if I repeatedly play this game?\". We can imagine that this is no different for poker, especially when we're a professional poker player!\n",
        "\n",
        "Now, if the possible outcomes of the game and their associated probabilities can be described by a random variable, then we can answer the above question by computing its expected value, which is equal to a weighted average of the outcomes where each outcome is weighted by its probability.\n",
        "\n",
        "Or, in other words, we simply multiply the Total Value times the probability of winning to get our Expected Value:\n",
        "\n",
        "ExpectedValue=TotalValue×Probability\n",
        "\n",
        "What is the expected value if there is $$100 (Total Value) in the pot, and your probability of winning the pot is 0.75?\n",
        "\n",
        "ExpectedValue = $100 * 0.75\n",
        "\n"
      ]
    },
    {
      "cell_type": "code",
      "metadata": {
        "colab": {
          "base_uri": "https://localhost:8080/"
        },
        "id": "S10Zv9naU0mD",
        "outputId": "892f6681-ba89-4987-a0f5-08d4205f5fe3"
      },
      "source": [
        "# Initialize `pot` and `probability` variables\n",
        "pot = 100\n",
        "probability = 0.75\n",
        "\n",
        "# Determine expected value\n",
        "expected_value = pot * probability\n",
        "print(expected_value)"
      ],
      "execution_count": null,
      "outputs": [
        {
          "output_type": "stream",
          "name": "stdout",
          "text": [
            "75.0\n"
          ]
        }
      ]
    },
    {
      "cell_type": "markdown",
      "metadata": {
        "id": "jWkaJcFEVJO0"
      },
      "source": [
        "We're expected value is $$75.Expected value is an important concept in poker. Now let's see how to use expected values to our advantage.\n",
        "\n",
        "Example :\n",
        "\n",
        "Your Hand: ('A', '♢'), ('Q', '♢')\n",
        "\n",
        "Opponents Hand :  (2, '♡'), (2, '♣')\n",
        "\n",
        "Community Cards : ('J', '♣'), (9, '♢'), (4, '♢'), (2, '♠')\n",
        "\n",
        "Total Pot = $60\n",
        "\n",
        "Opponents Bet = $20\n",
        "\n",
        "\n",
        "Your opponent has decided to be helpful and show you his cards, and has a set of 2s. To win the hand on the River, you must hit any Diamond except a Jack or 2. The Jack or 2 of Diamonds would give your opponent a better hand, a full house and four of a kind respectively. You have to call $20 to stay in the hand, and if you win the hand you win $60. If your expected value is greater than $20 you should call the bet, and if not you should fold.\n",
        "\n"
      ]
    },
    {
      "cell_type": "code",
      "metadata": {
        "colab": {
          "base_uri": "https://localhost:8080/"
        },
        "id": "KPQ6oQtiu9mG",
        "outputId": "508d76d1-6c4e-457e-daf8-5c99ffa5d63b"
      },
      "source": [
        "# Figure out if you should call the bet:\n",
        "\n",
        "# Sample Space\n",
        "cards = 52\n",
        "hole_cards = 2\n",
        "# Your opponent provided you information... use it!\n",
        "opponents_hole_cards = 2 \n",
        "\n",
        "turn_community_cards = 4\n",
        "cards = cards - (hole_cards + opponents_hole_cards + turn_community_cards)\n",
        "\n",
        "# Outcomes\n",
        "diamonds = 13\n",
        "diamonds_drawn = 4\n",
        "\n",
        "# You can't count the two diamonds that won't help you win\n",
        "diamond_non_outs = 2 \n",
        "\n",
        "outs = diamonds - diamonds_drawn - diamond_non_outs\n",
        "\n",
        "# Determine win probability\n",
        "win_probability = outs / cards\n",
        "\n",
        "# Determine expected value\n",
        "pot = 60\n",
        "ev = pot * win_probability\n",
        "\n",
        "# Print ev and appropriate decision\n",
        "call_amount = 20\n",
        "if ev >= 20:\n",
        "    print(round(ev, 2), 'Call')\n",
        "else:\n",
        "    print(round(ev, 2), 'Fold')"
      ],
      "execution_count": null,
      "outputs": [
        {
          "output_type": "stream",
          "name": "stdout",
          "text": [
            "9.55 Fold\n"
          ]
        }
      ]
    },
    {
      "cell_type": "markdown",
      "metadata": {
        "id": "ehA6gE-evLzv"
      },
      "source": [
        "Your expected value is only $$9.55, which is less than the $20 you would need to risk to get that reward, so you must fold."
      ]
    },
    {
      "cell_type": "markdown",
      "metadata": {
        "id": "Yq_CG_iPT67D"
      },
      "source": [
        "**Example 3:**"
      ]
    },
    {
      "cell_type": "markdown",
      "metadata": {
        "id": "WCPD-y0BXyVI"
      },
      "source": [
        "There is a brand of cereal that comes with a single coupon with the purchase of each box. There are a 5 different types of coupons. The probability of getting any one of the 5 coupons with each cereal box purchase is uniform. The objective is to collect all 5 unique coupon types.\n",
        "\n",
        "Now the questions begs, what is the expected number of boxes of cereal you will need to purchase to collect all 5 unique coupons?"
      ]
    },
    {
      "cell_type": "markdown",
      "metadata": {
        "id": "PX7xVwfWY0vY"
      },
      "source": [
        "**solution:**\n",
        "\n",
        "We will first solve this problem analytically, and then simulate the problem computationally to verify our findings.\n",
        "\n",
        "Observations:\n",
        "\n",
        "1. Each cereal box purchased is independent of the last box (or boxes) purchased.\n",
        "\n",
        "2. The probability of getting any of the 5 coupon types in a given box is the same.\n",
        "\n",
        "Geometric Random Variables:\n",
        "A Geometric random variable is a discrete random variable with a one-parameter distribution as detailed below:\n",
        "\n",
        "Let's say we have an ever growing sequence of independent Bernoulli trials, each with probability of success p. A geometric random variable X is the number of Bernoulli trails X = x to get to the first success in the sequence.\n",
        "\n",
        "The probability mass function of X ~ Geometric(p) is:\n",
        "\n",
        "fx(x:p) = p(1-p)^x-1 for x € {1,2,.......,∞} and 0< p ≤ 1\n"
      ]
    },
    {
      "cell_type": "markdown",
      "metadata": {
        "id": "RzUkge3XddPk"
      },
      "source": [
        "\n",
        "Note, that we can view our coupon collecting problem as the sum of the expected value of five geometric random variables, each with different success parameters p:\n",
        "\n",
        "1st coupons Purchasing:\n",
        "\n",
        "Prior to purchasing our first box of cereal, we don't yet have any coupons. Therefore, with our first box purchased we are guaranteed to collect a unique coupon we don't yet have with probability 1.\n",
        "\n",
        "X1 ~ Geometric(p = 5/5)\n",
        "\n",
        "2nd Unique coupon, after 1st unique coupon has been collected:\n",
        "\n",
        "Having collected our 1st unique coupon,we know want a second. Note that this will also be a geometric random variable, but with different of success p. Because we have already collected one of the unique coupons, with each box purchased there is a 1/5 probability of getting that same coupon type, and a 4/5 probability of obtaining a new unique coupon we don't yet have.\n",
        "\n",
        "X2 ~ Geometric(p = 4/5)\n",
        "\n",
        "Continued Series:\n",
        "\n",
        "X3 ~ Geometric(p = 3/5)\n",
        "\n",
        "X4 ~ Geometric(p = 2/5)\n",
        "\n",
        "X5 ~ Geometric(p = 1/5)\n",
        "\n",
        "Note, that the expected value of a geometric random variable is 1/p:\n",
        "\n",
        "\n",
        "X ~ Geometric(p) , E[X] = 1/P\n",
        "\n",
        "Therefore , **Expected number of boxes purchased** \n",
        "\n",
        "=  E[X1] +  E[X2] + E[X3] +  E[X4] +  E[X5]\n",
        "\n",
        "=  E[1/(5/5)] +  E[1/(4/5)] + E[1/(3/5)] +  E[1/(2/5)] +  E[1/(1/5)]\n",
        "\n",
        "≈  11.4167\n",
        "\n",
        "**Conclusion** : Therefore, rounding up to the nearest integer, the expected number of boxes we will need to purchase to collect all 5 unique coupons is 12 boxes.\n"
      ]
    },
    {
      "cell_type": "code",
      "metadata": {
        "colab": {
          "base_uri": "https://localhost:8080/"
        },
        "id": "osfJhttIUAuD",
        "outputId": "53c76033-f1af-450f-db5a-0aa154189396"
      },
      "source": [
        "# Now stimulating the above example in python over 10000 iterations.\n",
        "\n",
        "import numpy as np\n",
        "import pandas as pd\n",
        "import matplotlib.pyplot as plt\n",
        "import warnings\n",
        "warnings.filterwarnings('ignore') \n",
        "## specify number of coupons, and the probability of getting a coupon\n",
        "num_coupons=5\n",
        "expected_number_of_trials = 0\n",
        "for i in range(num_coupons, 0, -1):\n",
        "    expected_number_of_trials = expected_number_of_trials + (1/(i/num_coupons))\n",
        "iterations = 10000\n",
        "df = pd.DataFrame()\n",
        "df['iteration'] = range(1,iterations+1)\n",
        "df['average_num_trials_required'] = None\n",
        "for i in range(0, iterations):\n",
        "    full_set = set(range(0,num_coupons))\n",
        "    current_set = set([])\n",
        "    total_number_of_coupons_collected = 0\n",
        "    while(current_set != full_set):\n",
        "        total_number_of_coupons_collected = total_number_of_coupons_collected+1\n",
        "        random_coupon = np.asscalar(np.random.randint(low=0, high=num_coupons, size=1))\n",
        "        update_set = list(current_set)\n",
        "        update_set.append(random_coupon)\n",
        "        current_set = set(update_set)\n",
        "        del random_coupon, update_set\n",
        "    \n",
        "    if(i+1 == 1):\n",
        "        df.loc[df['iteration']==i+1, 'average_num_trials_required'] = total_number_of_coupons_collected\n",
        "    else:\n",
        "        df.loc[df['iteration']==i+1, 'average_num_trials_required'] = float(((df.loc[df['iteration']==i, 'average_num_trials_required']*i) + total_number_of_coupons_collected)/(i+1))\n",
        "\n",
        "average_num_trials_required = df['average_num_trials_required'][i]\n",
        "\n",
        "print(\"Average or Expected number of trials Requried:\", average_num_trials_required)\n",
        "#print(\"Average or Expected number of trials Requried:\", df['average_num_trials_required'][i])"
      ],
      "execution_count": null,
      "outputs": [
        {
          "output_type": "stream",
          "name": "stdout",
          "text": [
            "Average or Expected number of trials Requried: 11.578899999999988\n"
          ]
        }
      ]
    },
    {
      "cell_type": "markdown",
      "metadata": {
        "id": "EO65msj8rZ77"
      },
      "source": [
        "**Conclusion :**\n",
        "\n",
        "As shown above, over 10,000 iterations, the sample average or expected value of the number of boxes needed to be purchased to collect all 5 unique coupons was approximately 11.4533. This result coincides with our solution above.\n",
        "\n"
      ]
    },
    {
      "cell_type": "markdown",
      "metadata": {
        "id": "_r9dj8dDr12B"
      },
      "source": [
        "**Example 4:**"
      ]
    },
    {
      "cell_type": "markdown",
      "metadata": {
        "id": "wEi2Pmgl41aO"
      },
      "source": [
        "**Binomial Distribution:**\n",
        "\n",
        "A random variable X that has a binomial distribution represents the number of successes in a sequence of n independent yes/no trials, each of which yields success with probability p.\n",
        "E(X) = np, Var(X) = np(1−p)\n",
        "E(X) is the expected value or mean of the distribution.\n",
        "\n",
        "Example of binomial distribution: What is the probability of getting 2 heads out of 10 flips of a fair coin? \n",
        "In this experiment the probability of getting a head is 0.3,  this means that on an average you can expect 3 coin flips to be heads. I define all the possible values the coin flip can take, k = np.arange(0,11), you can observe zero head, one head all the way upto ten heads. I am using stats.binom.pmf  to calculate the probability mass function for each observation. It returns a list of 11 elements, these elements represent the probability associated with each observation."
      ]
    },
    {
      "cell_type": "code",
      "metadata": {
        "colab": {
          "base_uri": "https://localhost:8080/"
        },
        "id": "UOykh0kIUAzL",
        "outputId": "6620a88d-25af-468b-f11f-c7a0d04238a9"
      },
      "source": [
        "import numpy as np\n",
        "from scipy.special import erfinv\n",
        "from scipy.stats import binom\n",
        "import statistics\n",
        "import matplotlib.pyplot as plt\n",
        "import seaborn as sns\n",
        "\n",
        "n = 10\n",
        "p = 0.3\n",
        "k = np.arange(0,21)\n",
        "binomial = binom.pmf(k, n, p)\n",
        "binomial"
      ],
      "execution_count": null,
      "outputs": [
        {
          "output_type": "execute_result",
          "data": {
            "text/plain": [
              "array([2.82475249e-02, 1.21060821e-01, 2.33474441e-01, 2.66827932e-01,\n",
              "       2.00120949e-01, 1.02919345e-01, 3.67569090e-02, 9.00169200e-03,\n",
              "       1.44670050e-03, 1.37781000e-04, 5.90490000e-06, 0.00000000e+00,\n",
              "       0.00000000e+00, 0.00000000e+00, 0.00000000e+00, 0.00000000e+00,\n",
              "       0.00000000e+00, 0.00000000e+00, 0.00000000e+00, 0.00000000e+00,\n",
              "       0.00000000e+00])"
            ]
          },
          "metadata": {},
          "execution_count": 50
        }
      ]
    },
    {
      "cell_type": "code",
      "metadata": {
        "colab": {
          "base_uri": "https://localhost:8080/",
          "height": 297
        },
        "id": "23s0YSo1UA1f",
        "outputId": "2125a07c-cdc8-467e-9f86-e28a56f1ded9"
      },
      "source": [
        "import matplotlib.pyplot as plt\n",
        "plt.plot(k, binomial, 'o-')\n",
        "plt.title('Binomial: n=%i, p=%.2f' % (n,p),fontsize=15)\n",
        "plt.xlabel('Number of Successes')\n",
        "plt.ylabel('Probability of Successes', fontsize=15)\n",
        "plt.show()"
      ],
      "execution_count": null,
      "outputs": [
        {
          "output_type": "display_data",
          "data": {
            "text/plain": [
              "<Figure size 432x288 with 1 Axes>"
            ],
            "image/png": "[encoded data removed]"
          },
          "metadata": {
            "needs_background": "light"
          }
        }
      ]
    },
    {
      "cell_type": "markdown",
      "metadata": {
        "id": "GwVyQd2o9PVf"
      },
      "source": [
        "We can simulate a binomial random variable using .rvs. The parameter size specifies how many simulations we want to do. I ask Python to return 10000 binomial random variables with parameters n and p. I am printing the mean and standard deviation of these 10000 random variables. Then I am going to plot the histogram of all the random variables that I simulated."
      ]
    },
    {
      "cell_type": "code",
      "metadata": {
        "colab": {
          "base_uri": "https://localhost:8080/",
          "height": 314
        },
        "id": "8IMt_kIjUA3-",
        "outputId": "b36618b5-dc87-4f71-d46e-0ce5acd3a255"
      },
      "source": [
        "binom_sim = data = binom.rvs(n=10,p=0.3,size=10000)\n",
        "print(\"Mean: %g\" % np.mean(binom_sim))\n",
        "print(\"SD: %g\" % np.std(binom_sim, ddof=1)) \n",
        "plt.hist(binom_sim, bins = 10, density=True, color = \"blue\")  # normed\n",
        "plt.xlabel('x')\n",
        "plt.ylabel('density')\n",
        "plt.show()"
      ],
      "execution_count": null,
      "outputs": [
        {
          "output_type": "stream",
          "name": "stdout",
          "text": [
            "Mean: 3.0159\n",
            "SD: 1.46043\n"
          ]
        },
        {
          "output_type": "display_data",
          "data": {
            "text/plain": [
              "<Figure size 432x288 with 1 Axes>"
            ],
            "image/png": "[encoded data removed]"
          },
          "metadata": {
            "needs_background": "light"
          }
        }
      ]
    },
    {
      "cell_type": "markdown",
      "metadata": {
        "id": "kDquTcYD_7BA"
      },
      "source": [
        "**Example 5:**"
      ]
    },
    {
      "cell_type": "markdown",
      "metadata": {
        "id": "T_7SF4k9_--T"
      },
      "source": [
        "**Poisson Distribution**\n",
        "\n",
        "A random variable X that has a Poisson distribution represents the number of events occurring in a fixed time interval with a rate parameters λ. λ tells you the rate at which the number of events occur.  The average and variance is λ.\n",
        "\n",
        "P(X=k) = (λ^k) * (e^-λ) / k!\n",
        "\n",
        "E(X) = λ, Var(X) = λ"
      ]
    },
    {
      "cell_type": "code",
      "metadata": {
        "colab": {
          "base_uri": "https://localhost:8080/"
        },
        "id": "UlVlIYRF83Ac",
        "outputId": "5e7ce6da-c3bc-4387-86b6-622d44dae2ed"
      },
      "source": [
        "import numpy as np\n",
        "from scipy.stats import poisson\n",
        "import statistics\n",
        "import matplotlib.pyplot as plt\n",
        "import seaborn as sns\n",
        "\n",
        "rate = 2\n",
        "n = np.arange(0,10)\n",
        "y = poisson.pmf(n, rate)\n",
        "y"
      ],
      "execution_count": null,
      "outputs": [
        {
          "output_type": "execute_result",
          "data": {
            "text/plain": [
              "array([1.35335283e-01, 2.70670566e-01, 2.70670566e-01, 1.80447044e-01,\n",
              "       9.02235222e-02, 3.60894089e-02, 1.20298030e-02, 3.43708656e-03,\n",
              "       8.59271640e-04, 1.90949253e-04])"
            ]
          },
          "metadata": {},
          "execution_count": 53
        }
      ]
    },
    {
      "cell_type": "code",
      "metadata": {
        "colab": {
          "base_uri": "https://localhost:8080/",
          "height": 296
        },
        "id": "URztmFUw83Cl",
        "outputId": "ef7f6254-4cbc-4c06-89d9-7eda53b77016"
      },
      "source": [
        "plt.plot(n, y, 'o-')\n",
        "plt.title('Poisson: $\\lambda$ =%i' % rate)\n",
        "plt.xlabel('Number of accidents')\n",
        "plt.ylabel('Probability of number of accidents')\n",
        "plt.show()"
      ],
      "execution_count": null,
      "outputs": [
        {
          "output_type": "display_data",
          "data": {
            "text/plain": [
              "<Figure size 432x288 with 1 Axes>"
            ],
            "image/png": "[encoded data removed]"
          },
          "metadata": {
            "needs_background": "light"
          }
        }
      ]
    },
    {
      "cell_type": "markdown",
      "metadata": {
        "id": "ocPWv_nNEURR"
      },
      "source": [
        "We can notice that the  number of accidents peaks around the mean. On an average we can expect lambda number of events. Trying different values of lambda and n,  then see how shape of the distribution changes.\n",
        "Now I am going to simulate 1000 random variables from a Poisson distribution.\n"
      ]
    },
    {
      "cell_type": "code",
      "metadata": {
        "colab": {
          "base_uri": "https://localhost:8080/",
          "height": 330
        },
        "id": "-c3PsGTm83Eu",
        "outputId": "e58e38bb-1acb-43d1-c145-e068819c77e2"
      },
      "source": [
        "data = poisson.rvs(mu=2, loc = 0, size = 1000)\n",
        "print(\"Mean: %g\" % np.mean(data))\n",
        "print(\"SD: %g\" % np.std(data, ddof=1))\n",
        "plt.figure()\n",
        "plt.hist(data, bins=9, density = True)\n",
        "plt.xlim(0,10)\n",
        "plt.xlabel('Number of accidents')\n",
        "plt.title('Stimulating Poisson Random Variables')\n",
        "plt.show()"
      ],
      "execution_count": null,
      "outputs": [
        {
          "output_type": "stream",
          "name": "stdout",
          "text": [
            "Mean: 2.007\n",
            "SD: 1.41949\n"
          ]
        },
        {
          "output_type": "display_data",
          "data": {
            "text/plain": [
              "<Figure size 432x288 with 1 Axes>"
            ],
            "image/png": "[encoded data removed]"
          },
          "metadata": {
            "needs_background": "light"
          }
        }
      ]
    },
    {
      "cell_type": "markdown",
      "metadata": {
        "id": "B1_kCiLgzV3-"
      },
      "source": [
        "**6. Probability Estimation**"
      ]
    },
    {
      "cell_type": "markdown",
      "metadata": {
        "id": "v2htSJQSjnh0"
      },
      "source": [
        "Estimation refers to the process by which one makes inferences about a population, based on information obtained from a sample. A point estimate, for example, is the single number most likely to express the value of the property. An interval estimate defines a range within which the value of the property can be expected (with a specified degree of confidence) to fall."
      ]
    },
    {
      "cell_type": "code",
      "metadata": {
        "id": "pqwpOFUPr-B4"
      },
      "source": [
        "from matplotlib import pyplot\n",
        "from numpy.random import normal\n",
        "from numpy import mean\n",
        "from numpy import std\n",
        "from scipy.stats import norm"
      ],
      "execution_count": null,
      "outputs": []
    },
    {
      "cell_type": "code",
      "metadata": {
        "id": "3N-IwXPSr-B6"
      },
      "source": [
        "sample = normal(loc=50, scale=5, size=1000)\n"
      ],
      "execution_count": null,
      "outputs": []
    },
    {
      "cell_type": "code",
      "metadata": {
        "id": "VEAg5-REr-B7",
        "outputId": "817c37ee-d767-4399-9c75-64eec321578e",
        "colab": {
          "base_uri": "https://localhost:8080/"
        }
      },
      "source": [
        "sample_mean = mean(sample)\n",
        "sample_std = std(sample)\n",
        "print('Mean=%.3f, Standard Deviation=%.3f' % (sample_mean, sample_std))"
      ],
      "execution_count": null,
      "outputs": [
        {
          "output_type": "stream",
          "name": "stdout",
          "text": [
            "Mean=49.914, Standard Deviation=4.916\n"
          ]
        }
      ]
    },
    {
      "cell_type": "code",
      "metadata": {
        "id": "agKRZ1hAr-B-"
      },
      "source": [
        "dist = norm(sample_mean, sample_std)"
      ],
      "execution_count": null,
      "outputs": []
    },
    {
      "cell_type": "code",
      "metadata": {
        "id": "VzK_smu6r-CA"
      },
      "source": [
        "values = [value for value in range(30, 70)]\n",
        "probabilities = [dist.pdf(value) for value in values]"
      ],
      "execution_count": null,
      "outputs": []
    },
    {
      "cell_type": "code",
      "metadata": {
        "id": "QgVA8vK5r-CA",
        "outputId": "a7498f59-6189-464d-b750-11c0a4c18faa",
        "colab": {
          "base_uri": "https://localhost:8080/",
          "height": 282
        }
      },
      "source": [
        "pyplot.hist(sample, bins=10, density=True)\n",
        "pyplot.plot(values, probabilities)"
      ],
      "execution_count": null,
      "outputs": [
        {
          "output_type": "execute_result",
          "data": {
            "text/plain": [
              "[<matplotlib.lines.Line2D at 0x7f214bd0b390>]"
            ]
          },
          "metadata": {},
          "execution_count": 61
        },
        {
          "output_type": "display_data",
          "data": {
            "text/plain": [
              "<Figure size 432x288 with 1 Axes>"
            ],
            "image/png": "[encoded data removed]"
          },
          "metadata": {
            "needs_background": "light"
          }
        }
      ]
    },
    {
      "cell_type": "code",
      "metadata": {
        "id": "3GyTXuzlr-CC",
        "outputId": "155f460a-79ad-47aa-947b-5bbaab82a446",
        "colab": {
          "base_uri": "https://localhost:8080/",
          "height": 282
        }
      },
      "source": [
        "# code of parametric probability estimation\n",
        "# Code 1\n",
        "sample = normal(loc=50, scale=5, size=1000)\n",
        "# calculate parameters\n",
        "sample_mean = mean(sample)\n",
        "sample_std = std(sample)\n",
        "print('Mean=%.3f, Standard Deviation=%.3f' % (sample_mean, sample_std))\n",
        "# define the distribution\n",
        "dist = norm(sample_mean, sample_std)\n",
        "# sample probabilities for a range of outcomes\n",
        "values = [value for value in range(30, 70)]\n",
        "probabilities = [dist.pdf(value) for value in values]\n",
        "# plot the histogram and pdf\n",
        "pyplot.hist(sample, bins=10, density=True)\n",
        "pyplot.plot(values, probabilities)\n",
        "pyplot.show()"
      ],
      "execution_count": null,
      "outputs": [
        {
          "output_type": "stream",
          "name": "stdout",
          "text": [
            "Mean=50.173, Standard Deviation=5.022\n"
          ]
        },
        {
          "output_type": "display_data",
          "data": {
            "text/plain": [
              "<Figure size 432x288 with 1 Axes>"
            ],
            "image/png": "[encoded data removed]"
          },
          "metadata": {
            "needs_background": "light"
          }
        }
      ]
    },
    {
      "cell_type": "markdown",
      "metadata": {
        "id": "SpbDRZBhr-CE"
      },
      "source": [
        "Running the code first generates the data sample, then estimates the parameters of the normal probability distribution.\n",
        "\n",
        "Note that your results will differ given the random nature of the data sample. Try running the example a few times.\n",
        "\n",
        "In this case, we can see that the mean and standard deviation have some noise and are slightly different from the expected values of 50 and 5 respectively. The noise is minor and the distribution is expected to still be a good fit."
      ]
    },
    {
      "cell_type": "code",
      "metadata": {
        "id": "HEBuWj-lr-CF"
      },
      "source": [
        "sample = normal(loc=100, scale=10, size=1000)\n"
      ],
      "execution_count": null,
      "outputs": []
    },
    {
      "cell_type": "code",
      "metadata": {
        "id": "fVZegzhOr-CG",
        "outputId": "3edc1e39-15c3-4f68-87bd-37d0c107f692",
        "colab": {
          "base_uri": "https://localhost:8080/"
        }
      },
      "source": [
        "sample_mean = mean(sample)\n",
        "sample_std = std(sample)\n",
        "print('Mean=%.3f, Standard Deviation=%.3f' % (sample_mean, sample_std))"
      ],
      "execution_count": null,
      "outputs": [
        {
          "output_type": "stream",
          "name": "stdout",
          "text": [
            "Mean=100.065, Standard Deviation=10.143\n"
          ]
        }
      ]
    },
    {
      "cell_type": "code",
      "metadata": {
        "id": "_vZdsiayr-CI"
      },
      "source": [
        "dist = norm(sample_mean, sample_std)"
      ],
      "execution_count": null,
      "outputs": []
    },
    {
      "cell_type": "code",
      "metadata": {
        "id": "FRvOOY5Tr-CI"
      },
      "source": [
        "values = [value for value in range(30, 200)]\n",
        "probabilities = [dist.pdf(value) for value in values]"
      ],
      "execution_count": null,
      "outputs": []
    },
    {
      "cell_type": "code",
      "metadata": {
        "id": "e4hm6O9Hr-CJ",
        "outputId": "4491e278-23bc-4c0d-d6a2-985a3515cda0",
        "colab": {
          "base_uri": "https://localhost:8080/",
          "height": 282
        }
      },
      "source": [
        "pyplot.hist(sample, bins=10, density=True)\n",
        "pyplot.plot(values, probabilities)"
      ],
      "execution_count": null,
      "outputs": [
        {
          "output_type": "execute_result",
          "data": {
            "text/plain": [
              "[<matplotlib.lines.Line2D at 0x7f214bbb7110>]"
            ]
          },
          "metadata": {},
          "execution_count": 67
        },
        {
          "output_type": "display_data",
          "data": {
            "text/plain": [
              "<Figure size 432x288 with 1 Axes>"
            ],
            "image/png": "[encoded data removed]"
          },
          "metadata": {
            "needs_background": "light"
          }
        }
      ]
    },
    {
      "cell_type": "code",
      "metadata": {
        "scrolled": true,
        "id": "NKW7H0nTr-CK",
        "outputId": "9fedacdc-3d2c-42a5-f005-25c019946097",
        "colab": {
          "base_uri": "https://localhost:8080/",
          "height": 282
        }
      },
      "source": [
        "# code of parametric probability estimation\n",
        "# Code 2\n",
        "sample = normal(loc=100, scale=10, size=1000)\n",
        "# calculate parameters\n",
        "sample_mean = mean(sample)\n",
        "sample_std = std(sample)\n",
        "print('Mean=%.3f, Standard Deviation=%.3f' % (sample_mean, sample_std))\n",
        "# define the distribution\n",
        "dist = norm(sample_mean, sample_std)\n",
        "# sample probabilities for a range of outcomes\n",
        "values = [value for value in range(30, 200)]\n",
        "probabilities = [dist.pdf(value) for value in values]\n",
        "# plot the histogram and pdf\n",
        "pyplot.hist(sample, bins=10, density=True)\n",
        "pyplot.plot(values, probabilities)\n",
        "pyplot.show()"
      ],
      "execution_count": null,
      "outputs": [
        {
          "output_type": "stream",
          "name": "stdout",
          "text": [
            "Mean=99.738, Standard Deviation=10.018\n"
          ]
        },
        {
          "output_type": "display_data",
          "data": {
            "text/plain": [
              "<Figure size 432x288 with 1 Axes>"
            ],
            "image/png": "[encoded data removed]"
          },
          "metadata": {
            "needs_background": "light"
          }
        }
      ]
    },
    {
      "cell_type": "markdown",
      "metadata": {
        "id": "qBMCPZh_r-CM"
      },
      "source": [
        "Running the code first generates the data sample, then estimates the parameters of the normal probability distribution.\n",
        "\n",
        "Note that your results will differ given the random nature of the data sample. Try running the example a few times.\n",
        "\n",
        "In this case, we can see that the mean and standard deviation have some noise and are slightly different from the expected values of 100 and 10 respectively. The noise is minor and the distribution is expected to still be a good fit."
      ]
    },
    {
      "cell_type": "code",
      "metadata": {
        "id": "P-gT5Jekr-CN",
        "outputId": "e56f9afb-61e8-420e-966c-9f7f94a58926",
        "colab": {
          "base_uri": "https://localhost:8080/"
        }
      },
      "source": [
        "sample = normal(loc=200, scale=50, size=1000)\n",
        "sample_mean = mean(sample)\n",
        "sample_std = std(sample)\n",
        "print('Mean=%.3f, Standard Deviation=%.3f' % (sample_mean, sample_std))\n",
        "dist = norm(sample_mean, sample_std)\n",
        "values = [value for value in range(30, 500)]\n",
        "probabilities = [dist.pdf(value) for value in values]"
      ],
      "execution_count": null,
      "outputs": [
        {
          "output_type": "stream",
          "name": "stdout",
          "text": [
            "Mean=199.769, Standard Deviation=51.302\n"
          ]
        }
      ]
    },
    {
      "cell_type": "code",
      "metadata": {
        "id": "XhE8WQe4r-CP",
        "outputId": "21c1b5e6-7fdc-4a6d-8b52-bff8db8acb3d",
        "colab": {
          "base_uri": "https://localhost:8080/",
          "height": 282
        }
      },
      "source": [
        "pyplot.hist(sample, bins=10, density=True)\n",
        "pyplot.plot(values, probabilities)"
      ],
      "execution_count": null,
      "outputs": [
        {
          "output_type": "execute_result",
          "data": {
            "text/plain": [
              "[<matplotlib.lines.Line2D at 0x7f214bb03710>]"
            ]
          },
          "metadata": {},
          "execution_count": 70
        },
        {
          "output_type": "display_data",
          "data": {
            "text/plain": [
              "<Figure size 432x288 with 1 Axes>"
            ],
            "image/png": "[encoded data removed]"
          },
          "metadata": {
            "needs_background": "light"
          }
        }
      ]
    },
    {
      "cell_type": "code",
      "metadata": {
        "id": "xmfNd8I3r-CQ",
        "outputId": "e742061e-201e-42e5-f6aa-34e14bb453f2",
        "colab": {
          "base_uri": "https://localhost:8080/",
          "height": 282
        }
      },
      "source": [
        "# code of parametric probability estimation\n",
        "# Code 3\n",
        "sample = normal(loc=200, scale=50, size=1000)\n",
        "# calculate parameters\n",
        "sample_mean = mean(sample)\n",
        "sample_std = std(sample)\n",
        "print('Mean=%.3f, Standard Deviation=%.3f' % (sample_mean, sample_std))\n",
        "# define the distribution\n",
        "dist = norm(sample_mean, sample_std)\n",
        "# sample probabilities for a range of outcomes\n",
        "values = [value for value in range(30, 500)]\n",
        "probabilities = [dist.pdf(value) for value in values]\n",
        "# plot the histogram and pdf\n",
        "pyplot.hist(sample, bins=10, density=True)\n",
        "pyplot.plot(values, probabilities)\n",
        "pyplot.show()"
      ],
      "execution_count": null,
      "outputs": [
        {
          "output_type": "stream",
          "name": "stdout",
          "text": [
            "Mean=198.501, Standard Deviation=48.111\n"
          ]
        },
        {
          "output_type": "display_data",
          "data": {
            "text/plain": [
              "<Figure size 432x288 with 1 Axes>"
            ],
            "image/png": "[encoded data removed]"
          },
          "metadata": {
            "needs_background": "light"
          }
        }
      ]
    },
    {
      "cell_type": "markdown",
      "metadata": {
        "id": "-fnKj8Edr-CR"
      },
      "source": [
        "Running the code first generates the data sample, then estimates the parameters of the normal probability distribution.\n",
        "\n",
        "Note that your results will differ given the random nature of the data sample. Try running the example a few times.\n",
        "\n",
        "In this case, we can see that the mean and standard deviation have some noise and are slightly different from the expected values of 200 and 50 respectively. The noise is minor and the distribution is expected to still be a good fit."
      ]
    },
    {
      "cell_type": "code",
      "metadata": {
        "id": "ZD-He0ucr-CT"
      },
      "source": [
        "sample = normal(loc=250, scale=70, size=1000)\n",
        "sample_mean = mean(sample)\n",
        "sample_std = std(sample)\n",
        "print('Mean=%.3f, Standard Deviation=%.3f' % (sample_mean, sample_std))\n",
        "dist = norm(sample_mean, sample_std)\n",
        "values = [value for value in range(30, 600)]\n",
        "probabilities = [dist.pdf(value) for value in values]\n",
        "pyplot.hist(sample, bins=10, density=True)\n",
        "pyplot.plot(values, probabilities)"
      ],
      "execution_count": null,
      "outputs": []
    },
    {
      "cell_type": "code",
      "metadata": {
        "id": "P0wsxfzZr-CU",
        "outputId": "514c086d-f25c-4c9d-b1aa-8981b3bb828d"
      },
      "source": [
        "# code of parametric probability estimation\n",
        "# Code 4\n",
        "sample = normal(loc=250, scale=70, size=1000)\n",
        "# calculate parameters\n",
        "sample_mean = mean(sample)\n",
        "sample_std = std(sample)\n",
        "print('Mean=%.3f, Standard Deviation=%.3f' % (sample_mean, sample_std))\n",
        "# define the distribution\n",
        "dist = norm(sample_mean, sample_std)\n",
        "# sample probabilities for a range of outcomes\n",
        "values = [value for value in range(30, 600)]\n",
        "probabilities = [dist.pdf(value) for value in values]\n",
        "# plot the histogram and pdf\n",
        "pyplot.hist(sample, bins=10, density=True)\n",
        "pyplot.plot(values, probabilities)\n",
        "pyplot.show()"
      ],
      "execution_count": null,
      "outputs": [
        {
          "output_type": "stream",
          "text": [
            "Mean=245.684, Standard Deviation=68.823\n"
          ],
          "name": "stdout"
        },
        {
          "output_type": "display_data",
          "data": {
            "image/png": "[encoded data removed]",
            "text/plain": [
              "<Figure size 432x288 with 1 Axes>"
            ]
          },
          "metadata": {
            "tags": [],
            "needs_background": "light"
          }
        }
      ]
    },
    {
      "cell_type": "markdown",
      "metadata": {
        "id": "9OfCHBzpr-CW"
      },
      "source": [
        "Running the code first generates the data sample, then estimates the parameters of the normal probability distribution.\n",
        "\n",
        "Note that your results will differ given the random nature of the data sample. Try running the example a few times.\n",
        "\n",
        "In this case, we can see that the mean and standard deviation have some noise and are slightly different from the expected values of 250 and 70 respectively. The noise is minor and the distribution is expected to still be a good fit."
      ]
    },
    {
      "cell_type": "code",
      "metadata": {
        "id": "HLvBmAiAr-CX",
        "outputId": "aa55f8d2-9a8d-4f34-d056-da8996ced9fc"
      },
      "source": [
        "sample = normal(loc=300, scale=90, size=1000)\n",
        "sample_mean = mean(sample)\n",
        "sample_std = std(sample)\n",
        "print('Mean=%.3f, Standard Deviation=%.3f' % (sample_mean, sample_std))\n",
        "dist = norm(sample_mean, sample_std)\n",
        "values = [value for value in range(30, 800)]\n",
        "probabilities = [dist.pdf(value) for value in values]\n",
        "pyplot.hist(sample, bins=10, density=True)\n",
        "pyplot.plot(values, probabilities)"
      ],
      "execution_count": null,
      "outputs": [
        {
          "output_type": "stream",
          "text": [
            "Mean=302.693, Standard Deviation=90.791\n"
          ],
          "name": "stdout"
        },
        {
          "output_type": "execute_result",
          "data": {
            "text/plain": [
              "[<matplotlib.lines.Line2D at 0x1feac688fd0>]"
            ]
          },
          "metadata": {
            "tags": []
          },
          "execution_count": 40
        },
        {
          "output_type": "display_data",
          "data": {
            "image/png": "[encoded data removed]",
            "text/plain": [
              "<Figure size 432x288 with 1 Axes>"
            ]
          },
          "metadata": {
            "tags": [],
            "needs_background": "light"
          }
        }
      ]
    },
    {
      "cell_type": "code",
      "metadata": {
        "id": "3hmP16rVr-Cb",
        "outputId": "95b11ed3-2a34-4667-aa7d-b8cd990d4ba1"
      },
      "source": [
        "# code of parametric probability estimation\n",
        "# Code 5\n",
        "sample = normal(loc=300, scale=90, size=1000)\n",
        "# calculate parameters\n",
        "sample_mean = mean(sample)\n",
        "sample_std = std(sample)\n",
        "print('Mean=%.3f, Standard Deviation=%.3f' % (sample_mean, sample_std))\n",
        "# define the distribution\n",
        "dist = norm(sample_mean, sample_std)\n",
        "# sample probabilities for a range of outcomes\n",
        "values = [value for value in range(30, 800)]\n",
        "probabilities = [dist.pdf(value) for value in values]\n",
        "# plot the histogram and pdf\n",
        "pyplot.hist(sample, bins=10, density=True)\n",
        "pyplot.plot(values, probabilities)\n",
        "pyplot.show()"
      ],
      "execution_count": null,
      "outputs": [
        {
          "output_type": "stream",
          "text": [
            "Mean=297.163, Standard Deviation=92.014\n"
          ],
          "name": "stdout"
        },
        {
          "output_type": "display_data",
          "data": {
            "image/png": "[encoded data removed]",
            "text/plain": [
              "<Figure size 432x288 with 1 Axes>"
            ]
          },
          "metadata": {
            "tags": [],
            "needs_background": "light"
          }
        }
      ]
    },
    {
      "cell_type": "markdown",
      "metadata": {
        "id": "FgPNiuAGr-Cc"
      },
      "source": [
        "Running the code first generates the data sample, then estimates the parameters of the normal probability distribution.\n",
        "\n",
        "Note that your results will differ given the random nature of the data sample. Try running the example a few times.\n",
        "\n",
        "In this case, we can see that the mean and standard deviation have some noise and are slightly different from the expected values of 250 and 70 respectively. The noise is minor and the distribution is expected to still be a good fit."
      ]
    }
  ]
}